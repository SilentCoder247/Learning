{
 "cells": [
  {
   "cell_type": "markdown",
   "id": "e6fbc931-24b9-4ace-947b-16808728a0d2",
   "metadata": {},
   "source": [
    "What is List in python"
   ]
  },
  {
   "cell_type": "markdown",
   "id": "3248e83e-ead5-4a79-98d2-50795a0ea033",
   "metadata": {},
   "source": [
    "[  ] and ((  )) -- > List "
   ]
  },
  {
   "cell_type": "markdown",
   "id": "c9cc92eb-efe6-4d39-95d0-75e808e30d17",
   "metadata": {},
   "source": [
    "    List is Mutable "
   ]
  },
  {
   "cell_type": "code",
   "execution_count": 6,
   "id": "3bd0b2e8-3541-406e-b4f6-66e8af47a6b0",
   "metadata": {},
   "outputs": [],
   "source": [
    "a = ['z',58,25.33,\"Krunal\",5+6j,True]"
   ]
  },
  {
   "cell_type": "code",
   "execution_count": 7,
   "id": "168388d9-86e6-4f4f-a121-53e73c11dfd6",
   "metadata": {},
   "outputs": [
    {
     "name": "stdout",
     "output_type": "stream",
     "text": [
      "5 th value of thsi list is (5+6j) And its type is  <class 'complex'>\n"
     ]
    }
   ],
   "source": [
    "print (\"5 th value of thsi list is\",a[4],\"And its type is \",type(a[4]) )"
   ]
  },
  {
   "cell_type": "markdown",
   "id": "ea560636-4ca2-4003-a011-ff525f667460",
   "metadata": {},
   "source": [
    "  "
   ]
  },
  {
   "cell_type": "markdown",
   "id": "a0d8978b-3d46-4c75-acc0-9e3b9d030560",
   "metadata": {},
   "source": [
    "   "
   ]
  },
  {
   "cell_type": "markdown",
   "id": "e1acf7c1-23e1-466b-b5bf-5b94b4fec474",
   "metadata": {},
   "source": [
    "Slicing of list --- > Slice Operator "
   ]
  },
  {
   "cell_type": "code",
   "execution_count": 9,
   "id": "92bba014-0ed8-429e-932c-812116e9088d",
   "metadata": {},
   "outputs": [
    {
     "name": "stdout",
     "output_type": "stream",
     "text": [
      "['z', 58, 25.33, 'Krunal', (5+6j), True]\n",
      "<class 'list'>\n"
     ]
    }
   ],
   "source": [
    "print (a)\n",
    "print (type (a))"
   ]
  },
  {
   "cell_type": "code",
   "execution_count": 11,
   "id": "05a6cfb8-8a9e-4532-a8a5-5675d8f8aa90",
   "metadata": {},
   "outputs": [],
   "source": [
    "a=list((\"a\",25,85.63,True))"
   ]
  },
  {
   "cell_type": "code",
   "execution_count": 13,
   "id": "44feab0d-5f10-4bf1-9dd2-f3937cb05e0d",
   "metadata": {},
   "outputs": [
    {
     "name": "stdout",
     "output_type": "stream",
     "text": [
      "['a', 25, 85.63, True] type of a is :  <class 'list'>\n"
     ]
    }
   ],
   "source": [
    "print(a,\"type of a is : \",type (a))"
   ]
  },
  {
   "cell_type": "markdown",
   "id": "dea0fff0-5a30-4456-b63d-5af73d7a25a1",
   "metadata": {},
   "source": [
    "Example ::-->"
   ]
  },
  {
   "cell_type": "code",
   "execution_count": 14,
   "id": "3b837370-ed3a-463d-8266-d0a9ad279912",
   "metadata": {},
   "outputs": [],
   "source": [
    "a=[1,2,3,4,5,6]"
   ]
  },
  {
   "cell_type": "code",
   "execution_count": 15,
   "id": "be91d46a-9433-4fa2-b0f4-4ad2bfbdff88",
   "metadata": {},
   "outputs": [
    {
     "name": "stdout",
     "output_type": "stream",
     "text": [
      "[]\n"
     ]
    }
   ],
   "source": [
    "print(a[-1:0:2])"
   ]
  },
  {
   "cell_type": "code",
   "execution_count": 17,
   "id": "3b5d0c98-5123-4c94-9d67-8cf8abadc2f1",
   "metadata": {},
   "outputs": [
    {
     "name": "stdout",
     "output_type": "stream",
     "text": [
      "[64, 25, 1.0]\n"
     ]
    }
   ],
   "source": [
    "a=[2,64,25,01.0,'abc']\n",
    "print(a[1:4])"
   ]
  },
  {
   "cell_type": "code",
   "execution_count": 28,
   "id": "92909b76-eb19-4c05-b2b5-3cf8830d8742",
   "metadata": {},
   "outputs": [
    {
     "name": "stdout",
     "output_type": "stream",
     "text": [
      "case 1  [2]\n",
      "case 2  [2, 6]\n",
      "case 3  [2, 3, 4, 5, 6]\n",
      "case 4  [2]\n",
      "case 5  [2, 3, 4, 5, 6]\n",
      "case 6  [4, 3]\n",
      "case 7  []\n"
     ]
    }
   ],
   "source": [
    "a=[1,2,3,4,5,6]\n",
    "\n",
    "print (\"case 1 \",a[1:2:1])\n",
    "print (\"case 2 \",a[1:6:4])\n",
    "print (\"case 3 \",a[1::1])\n",
    "print (\"case 4 \",a[1::6])\n",
    "print (\"case 5 \",a[1::])\n",
    "print (\"case 6 \",a[3:1:-1])\n",
    "print (\"case 7 \",a[3:1:1])"
   ]
  },
  {
   "cell_type": "code",
   "execution_count": 29,
   "id": "0eabc996-9396-4450-98a4-f8344cdb6970",
   "metadata": {},
   "outputs": [
    {
     "name": "stdout",
     "output_type": "stream",
     "text": [
      "[6]\n"
     ]
    }
   ],
   "source": [
    "a=[1,2,3,4,5,6]\n",
    "print (a[5:6:1])"
   ]
  },
  {
   "cell_type": "code",
   "execution_count": 30,
   "id": "62aa3120-dcdf-45d1-9ea1-e79fb300d779",
   "metadata": {},
   "outputs": [
    {
     "name": "stdout",
     "output_type": "stream",
     "text": [
      "[9, 49]\n"
     ]
    }
   ],
   "source": [
    "a=[2,9,61,28,49,62,40]\n",
    "print(a[1:6:3])"
   ]
  },
  {
   "cell_type": "markdown",
   "id": "8c00e824-a68a-4450-a280-b73529376572",
   "metadata": {},
   "source": [
    "   "
   ]
  },
  {
   "cell_type": "markdown",
   "id": "20d387de-d5a2-46b2-8c59-6218602f76aa",
   "metadata": {},
   "source": [
    "   "
   ]
  },
  {
   "cell_type": "markdown",
   "id": "0c8feb15-5eb5-4cc4-ab31-f7e84c320a0a",
   "metadata": {},
   "source": [
    "    "
   ]
  },
  {
   "cell_type": "markdown",
   "id": "bbd2df41-d0a5-46e9-b0b0-39e652f30e1c",
   "metadata": {},
   "source": [
    "Method of List "
   ]
  },
  {
   "cell_type": "markdown",
   "id": "c8f0f521-a945-445b-9327-ab59b29c6bec",
   "metadata": {},
   "source": [
    "adding elemnt in list \n",
    "    \n",
    "    \n",
    "    \n",
    "    1. Append() --> add one element at tail of the list\n",
    "    2. insert() --> add one element at desire location\n",
    "    3. extend () --> add more than one element at last of thelist "
   ]
  },
  {
   "cell_type": "code",
   "execution_count": 7,
   "id": "eb5e115b-6003-4056-a03a-db76a7434f84",
   "metadata": {
    "scrolled": true
   },
   "outputs": [
    {
     "name": "stdout",
     "output_type": "stream",
     "text": [
      "[1, 'a1', 5, 65, 'bac', 1]\n"
     ]
    }
   ],
   "source": [
    "a=[1,'a1',5,65,\"bac\",1]\n",
    "print (a)"
   ]
  },
  {
   "cell_type": "markdown",
   "id": "6bb892f2-24ec-4a8b-875f-e7a32a9e7c5f",
   "metadata": {},
   "source": [
    "Append Function "
   ]
  },
  {
   "cell_type": "code",
   "execution_count": 12,
   "id": "09065196-1d1f-4ea5-85cc-1c8ac883734f",
   "metadata": {},
   "outputs": [
    {
     "name": "stdout",
     "output_type": "stream",
     "text": [
      "[1, 'a1', 5, 65, 'bac', 1, True, True, True, True]\n"
     ]
    }
   ],
   "source": [
    "a.append(True) # at last it add True\n",
    "print(a)"
   ]
  },
  {
   "cell_type": "code",
   "execution_count": 14,
   "id": "c31b6e3d-97e4-4e36-9366-10669a4233e3",
   "metadata": {},
   "outputs": [
    {
     "ename": "TypeError",
     "evalue": "list.append() takes exactly one argument (2 given)",
     "output_type": "error",
     "traceback": [
      "\u001b[1;31m---------------------------------------------------------------------------\u001b[0m",
      "\u001b[1;31mTypeError\u001b[0m                                 Traceback (most recent call last)",
      "Cell \u001b[1;32mIn[14], line 1\u001b[0m\n\u001b[1;32m----> 1\u001b[0m \u001b[43ma\u001b[49m\u001b[38;5;241;43m.\u001b[39;49m\u001b[43mappend\u001b[49m\u001b[43m(\u001b[49m\u001b[38;5;241;43m66\u001b[39;49m\u001b[43m,\u001b[49m\u001b[38;5;124;43m\"\u001b[39;49m\u001b[38;5;124;43mKrunal\u001b[39;49m\u001b[38;5;124;43m\"\u001b[39;49m\u001b[43m)\u001b[49m \u001b[38;5;66;03m# It give error because it add only one element\u001b[39;00m\n\u001b[0;32m      2\u001b[0m \u001b[38;5;28mprint\u001b[39m(a)\n",
      "\u001b[1;31mTypeError\u001b[0m: list.append() takes exactly one argument (2 given)"
     ]
    }
   ],
   "source": [
    "a.append(66,\"Krunal\") # It give error because it add only one element\n",
    "print(a)"
   ]
  },
  {
   "cell_type": "markdown",
   "id": "1f962267-9d4b-4abe-be47-5f1a25e37eff",
   "metadata": {},
   "source": [
    "     "
   ]
  },
  {
   "cell_type": "markdown",
   "id": "98b2f61d-691f-4a9a-81f6-86b7abc5bc50",
   "metadata": {},
   "source": [
    "Insert funcrion "
   ]
  },
  {
   "cell_type": "code",
   "execution_count": 15,
   "id": "b8ac99bd-ccda-46bd-8ffc-061dad4648c0",
   "metadata": {},
   "outputs": [
    {
     "name": "stdout",
     "output_type": "stream",
     "text": [
      "[1, 'a1', 5, 65, 'bac', 1, True, True, True, True]\n"
     ]
    }
   ],
   "source": [
    "print(a)"
   ]
  },
  {
   "cell_type": "code",
   "execution_count": 23,
   "id": "e9debaa0-80a4-41a1-b142-d2797a1bed67",
   "metadata": {},
   "outputs": [
    {
     "name": "stdout",
     "output_type": "stream",
     "text": [
      "[1, 'Krunal', 'Krunal', 'Krunal', 'Krunal', 'a1', 5, 65, 'bac', 1, True, True, True, True]\n"
     ]
    }
   ],
   "source": [
    "a.insert(1,'Krunal') # i want to add krunal at 1 index position \n",
    "print(a)"
   ]
  },
  {
   "cell_type": "code",
   "execution_count": 21,
   "id": "99c63cd0-cb1b-40d0-ab7e-8375cb37b036",
   "metadata": {},
   "outputs": [
    {
     "name": "stdout",
     "output_type": "stream",
     "text": [
      "[1, 'Krunal', 'Krunal', 'Krunal', 'a1', 5, 65, 'bac', 1, True, True, True, True]\n"
     ]
    }
   ],
   "source": [
    "print(a)"
   ]
  },
  {
   "cell_type": "code",
   "execution_count": 22,
   "id": "60d4c385-f510-4e90-90c7-dee01589d2a8",
   "metadata": {},
   "outputs": [
    {
     "name": "stdout",
     "output_type": "stream",
     "text": [
      "[1, 'Krunal', 'Krunal', 'Krunal', 'a1', 5, 65, 'bac', 1, True, True, True, True]\n"
     ]
    }
   ],
   "source": [
    "print(a)"
   ]
  },
  {
   "cell_type": "code",
   "execution_count": 24,
   "id": "c29129e6-baae-4dbf-a732-d6759042f463",
   "metadata": {},
   "outputs": [
    {
     "name": "stdout",
     "output_type": "stream",
     "text": [
      "[1, 'Krunal', 'Krunal', 'Krunal', 'Krunal', 'a1', 5, 65, 'bac', 1, True, True, True, True]\n"
     ]
    }
   ],
   "source": [
    "print(a)"
   ]
  },
  {
   "cell_type": "markdown",
   "id": "693682e7-d090-46d2-ad24-fb0000ccc75e",
   "metadata": {},
   "source": [
    "   "
   ]
  },
  {
   "cell_type": "markdown",
   "id": "76bf6406-9f4b-4d85-a773-e42bb981bb5f",
   "metadata": {},
   "source": [
    "Extend Function ()"
   ]
  },
  {
   "cell_type": "code",
   "execution_count": 29,
   "id": "0fc47d20-3f01-44f9-a053-47a700c7a5fe",
   "metadata": {},
   "outputs": [
    {
     "name": "stdout",
     "output_type": "stream",
     "text": [
      "[6, 8, 7, 9, 10, 16]\n"
     ]
    }
   ],
   "source": [
    "b= [6,8,7,9,10,16]\n",
    "print (b)"
   ]
  },
  {
   "cell_type": "code",
   "execution_count": 30,
   "id": "af24fd5a-5897-4f3f-bea9-970bf6a364bb",
   "metadata": {},
   "outputs": [
    {
     "name": "stdout",
     "output_type": "stream",
     "text": [
      "[6, 8, 7, 9, 10, 16, ['K', 'R', 'U']]\n"
     ]
    }
   ],
   "source": [
    "b.append(['K','R','U']) # it add this emlement as a list \n",
    "print(b)"
   ]
  },
  {
   "cell_type": "code",
   "execution_count": 31,
   "id": "d773233f-14c1-4bba-bb12-042e52f45766",
   "metadata": {},
   "outputs": [
    {
     "name": "stdout",
     "output_type": "stream",
     "text": [
      "[6, 8, 7, 9, 10, 16, ['K', 'R', 'U'], 'K', 'R', 'U']\n"
     ]
    }
   ],
   "source": [
    "b.extend(['K','R','U']) # in this it add elemnt it seperate and at last\n",
    "print (b)"
   ]
  },
  {
   "cell_type": "code",
   "execution_count": 33,
   "id": "b9e61ce2-5059-42dd-a35d-db3bb1f1fa6a",
   "metadata": {},
   "outputs": [
    {
     "name": "stdout",
     "output_type": "stream",
     "text": [
      "[6, 8, 7, 9, 10, 16, ['K', 'R', 'U'], 'K', 'R', 'U', 'a', 'b', 'c', 'abc']\n"
     ]
    }
   ],
   "source": [
    "b.append(\"abc\")\n",
    "print (b)"
   ]
  },
  {
   "cell_type": "code",
   "execution_count": 34,
   "id": "386b0382-83d0-4c13-9685-eff69792a7d9",
   "metadata": {},
   "outputs": [
    {
     "name": "stdout",
     "output_type": "stream",
     "text": [
      "[6, 8, 7, 9, 10, 16, ['K', 'R', 'U'], 'K', 'R', 'U', 'a', 'b', 'c', 'abc', 'a', 'b', 'c']\n"
     ]
    }
   ],
   "source": [
    "b.extend(\"abc\")\n",
    "print (b)"
   ]
  },
  {
   "cell_type": "code",
   "execution_count": 35,
   "id": "ae5e6f77-8308-4cef-ab9b-b05fb8736efe",
   "metadata": {},
   "outputs": [
    {
     "name": "stdout",
     "output_type": "stream",
     "text": [
      "[6, 8, 7, 9, 10, 16, ['K', 'R', 'U'], 'K', 'R', 'U', 'a', 'b', 'c', 'abc', 'a', 'b', 'c', 'abc']\n"
     ]
    }
   ],
   "source": [
    "b.extend([\"abc\"])\n",
    "print (b)"
   ]
  },
  {
   "cell_type": "code",
   "execution_count": 37,
   "id": "113d46b6-494a-4e24-b631-19efab051b8c",
   "metadata": {},
   "outputs": [
    {
     "name": "stdout",
     "output_type": "stream",
     "text": [
      "[1, 2, 3, 'krunal']\n"
     ]
    }
   ],
   "source": [
    "d=[1,2,3]\n",
    "d.append('krunal')\n",
    "print(d)"
   ]
  },
  {
   "cell_type": "code",
   "execution_count": 38,
   "id": "8b9cad7e-e0e3-4593-b2c8-85d456baa4ec",
   "metadata": {},
   "outputs": [],
   "source": [
    "e=[4,5,6]\n",
    "e.extend('abc')"
   ]
  },
  {
   "cell_type": "code",
   "execution_count": 39,
   "id": "d056088b-62d2-4bab-b957-91a62c317f16",
   "metadata": {},
   "outputs": [
    {
     "name": "stdout",
     "output_type": "stream",
     "text": [
      "[4, 5, 6, 'a', 'b', 'c']\n"
     ]
    }
   ],
   "source": [
    "print(e)"
   ]
  },
  {
   "cell_type": "code",
   "execution_count": 40,
   "id": "b734dbae-4414-4fc6-910e-bd69e9fe45ad",
   "metadata": {},
   "outputs": [],
   "source": [
    "e=[4,5,6]\n",
    "e.extend(['abc'])"
   ]
  },
  {
   "cell_type": "code",
   "execution_count": 41,
   "id": "8ee9c72b-91dd-4046-8884-b85a99e72232",
   "metadata": {},
   "outputs": [
    {
     "name": "stdout",
     "output_type": "stream",
     "text": [
      "[4, 5, 6, 'abc']\n"
     ]
    }
   ],
   "source": [
    "print(e)"
   ]
  },
  {
   "cell_type": "markdown",
   "id": "c1424b24-74df-4117-93eb-75d6583dff72",
   "metadata": {},
   "source": [
    "Remove element from list\n",
    "\n",
    "\n",
    "        1. pop() -- > remove one element by index from list\n",
    "        2. remove() --> remove one element by value from list\n",
    "        3. del --> one or more than one value from list\n",
    "        4. clear() --> remove all element "
   ]
  },
  {
   "cell_type": "code",
   "execution_count": 46,
   "id": "46b98b06-6e7c-4da6-85e1-fe0be794725e",
   "metadata": {},
   "outputs": [],
   "source": [
    "b=[1,2,3,4,5,6,7,8,9]"
   ]
  },
  {
   "cell_type": "code",
   "execution_count": 47,
   "id": "40eb0708-f003-405c-880a-14e5aef9d855",
   "metadata": {},
   "outputs": [
    {
     "name": "stdout",
     "output_type": "stream",
     "text": [
      "[1, 2, 4, 5, 6, 7, 8, 9]\n"
     ]
    }
   ],
   "source": [
    "b.pop(2)\n",
    "print(b)"
   ]
  },
  {
   "cell_type": "code",
   "execution_count": 48,
   "id": "699169cd-ae50-4223-9f91-faa9089c8592",
   "metadata": {},
   "outputs": [
    {
     "name": "stdout",
     "output_type": "stream",
     "text": [
      "[1, 2, 4, 6, 7, 8, 9]\n"
     ]
    }
   ],
   "source": [
    "b.remove(5)\n",
    "print(b)"
   ]
  },
  {
   "cell_type": "code",
   "execution_count": 50,
   "id": "7288b41f-5b23-4320-b33a-3e2974cd0ad5",
   "metadata": {},
   "outputs": [
    {
     "name": "stdout",
     "output_type": "stream",
     "text": [
      "[1, 2, 4, 6, 7, 8, 9, 2, 5, 8, 9, 2, 9]\n"
     ]
    }
   ],
   "source": [
    "b.extend([2,5,8,9,2,9])\n",
    "print(b)"
   ]
  },
  {
   "cell_type": "code",
   "execution_count": 51,
   "id": "bbef970b-3685-4f42-b8cd-4e65770b4e9c",
   "metadata": {},
   "outputs": [
    {
     "name": "stdout",
     "output_type": "stream",
     "text": [
      "2\n"
     ]
    }
   ],
   "source": [
    "b.remove(2)"
   ]
  },
  {
   "cell_type": "code",
   "execution_count": 52,
   "id": "078429c7-aa19-4664-9026-b5ccff49abfa",
   "metadata": {},
   "outputs": [
    {
     "name": "stdout",
     "output_type": "stream",
     "text": [
      "[1, 4, 6, 7, 8, 9, 2, 5, 8, 9, 2, 9]\n"
     ]
    }
   ],
   "source": [
    "print(b)"
   ]
  },
  {
   "cell_type": "code",
   "execution_count": 53,
   "id": "cf028614-49a9-4b93-b5ed-b0ee2ad6c8ef",
   "metadata": {},
   "outputs": [],
   "source": [
    "# clear -- > it remove all element from list \n",
    "# del --> it remove entire list means print(a)-- it give error because it not now available"
   ]
  },
  {
   "cell_type": "code",
   "execution_count": 54,
   "id": "57711546-2e87-48c0-900e-f2c5d0b855c6",
   "metadata": {},
   "outputs": [
    {
     "name": "stdout",
     "output_type": "stream",
     "text": [
      "[]\n"
     ]
    }
   ],
   "source": [
    "b.clear()\n",
    "print(b)"
   ]
  },
  {
   "cell_type": "code",
   "execution_count": 57,
   "id": "2c054336-4854-4b0a-a952-f64c8b3283fe",
   "metadata": {},
   "outputs": [
    {
     "ename": "NameError",
     "evalue": "name 'b' is not defined",
     "output_type": "error",
     "traceback": [
      "\u001b[1;31m---------------------------------------------------------------------------\u001b[0m",
      "\u001b[1;31mNameError\u001b[0m                                 Traceback (most recent call last)",
      "Cell \u001b[1;32mIn[57], line 2\u001b[0m\n\u001b[0;32m      1\u001b[0m \u001b[38;5;28;01mdel\u001b[39;00m b\n\u001b[1;32m----> 2\u001b[0m \u001b[38;5;28mprint\u001b[39m (\u001b[43mb\u001b[49m) \u001b[38;5;66;03m# not available now\u001b[39;00m\n",
      "\u001b[1;31mNameError\u001b[0m: name 'b' is not defined"
     ]
    }
   ],
   "source": [
    "del b\n",
    "print (b) # not available now so it give error "
   ]
  },
  {
   "cell_type": "code",
   "execution_count": 59,
   "id": "eb35c951-d49a-4258-a047-899149959d08",
   "metadata": {},
   "outputs": [
    {
     "name": "stdout",
     "output_type": "stream",
     "text": [
      "[1, 2, 3, 4, 5, 6, 7, 8, 9]\n",
      "[2, 3, 4, 5, 6, 7, 8]\n"
     ]
    }
   ],
   "source": [
    "b=[1,2,3,4,5,6,7,8,9]\n",
    "print(b)\n",
    "del b[::8] # delet firt and last \n",
    "print(b)"
   ]
  },
  {
   "cell_type": "code",
   "execution_count": 65,
   "id": "1e8a2859-0845-4fb6-bfba-9c1cee7847e7",
   "metadata": {},
   "outputs": [],
   "source": [
    "b=[1,[2,3,4,5,6],7,8,9]"
   ]
  },
  {
   "cell_type": "code",
   "execution_count": 66,
   "id": "eaef8300-f794-4d09-96cd-5eddd6750222",
   "metadata": {},
   "outputs": [
    {
     "name": "stdout",
     "output_type": "stream",
     "text": [
      "[1, [2, 3, 4, 5, 6], 7, 8, 9]\n"
     ]
    }
   ],
   "source": [
    "print(b)"
   ]
  },
  {
   "cell_type": "code",
   "execution_count": 68,
   "id": "602d7147-573e-4a14-9ad2-cd0869f680c3",
   "metadata": {},
   "outputs": [],
   "source": [
    "# add element in nested list "
   ]
  },
  {
   "cell_type": "code",
   "execution_count": 69,
   "id": "cfc7d88d-502a-4516-b6cf-32e20786d7a8",
   "metadata": {},
   "outputs": [
    {
     "name": "stdout",
     "output_type": "stream",
     "text": [
      "[1, [2, 3, 500, 4, 5, 6], 7, 8, 9]\n"
     ]
    }
   ],
   "source": [
    "b[1].insert(2,500)\n",
    "print(b)"
   ]
  },
  {
   "cell_type": "markdown",
   "id": "42c4214b-dad4-4671-a906-011a794cbee7",
   "metadata": {},
   "source": [
    "    "
   ]
  },
  {
   "cell_type": "markdown",
   "id": "ad6a8658-a917-42f8-82a9-0390150266ad",
   "metadata": {},
   "source": [
    "   "
   ]
  },
  {
   "cell_type": "markdown",
   "id": "74e101b3-b451-4034-9dec-892242f6d043",
   "metadata": {},
   "source": [
    "   "
   ]
  },
  {
   "cell_type": "markdown",
   "id": "fe0301cb-c34a-4b31-b568-80e377b4e990",
   "metadata": {},
   "source": [
    "Other Methods \n",
    "\n",
    "        1. index()  -- find index number\n",
    "        2. Count()  -- number of elemnet which occur multiple time \n",
    "        3. reverse() -- reverse the list\n",
    "        4. Sort() -- sort the elemnt in assending or decending order \n",
    "        5. copy() -- make copy of list"
   ]
  },
  {
   "cell_type": "code",
   "execution_count": 70,
   "id": "7ee0500d-bb33-4286-bf9c-025de05793ae",
   "metadata": {},
   "outputs": [
    {
     "name": "stdout",
     "output_type": "stream",
     "text": [
      "[1, 2, 3, 4, 5, 6, 7, 8, 9, 2, 5, 2, 6, 7, 2, 6]\n"
     ]
    }
   ],
   "source": [
    "a= [1,2,3,4,5,6,7,8,9,2,5,2,6,7,2,6]\n",
    "print(a)"
   ]
  },
  {
   "cell_type": "code",
   "execution_count": 71,
   "id": "137b50c5-6595-46c4-8c86-5acaa12bfe74",
   "metadata": {},
   "outputs": [
    {
     "name": "stdout",
     "output_type": "stream",
     "text": [
      "4\n"
     ]
    }
   ],
   "source": [
    "print (a.count(2))"
   ]
  },
  {
   "cell_type": "code",
   "execution_count": 72,
   "id": "a9af3a69-2a58-4063-82cc-75d6992f4f43",
   "metadata": {},
   "outputs": [
    {
     "name": "stdout",
     "output_type": "stream",
     "text": [
      "2\n"
     ]
    }
   ],
   "source": [
    "print (a.count(7))"
   ]
  },
  {
   "cell_type": "code",
   "execution_count": 73,
   "id": "2ecbf70d-770c-4e81-9233-26d3522df43c",
   "metadata": {},
   "outputs": [
    {
     "name": "stdout",
     "output_type": "stream",
     "text": [
      "4\n"
     ]
    }
   ],
   "source": [
    "print(a.index(5))"
   ]
  },
  {
   "cell_type": "code",
   "execution_count": 74,
   "id": "f0457181-445f-45ba-9e63-2a3bfdf986f5",
   "metadata": {},
   "outputs": [],
   "source": [
    "a.reverse()"
   ]
  },
  {
   "cell_type": "code",
   "execution_count": 76,
   "id": "43488748-1b46-4dd0-a018-a71b98240665",
   "metadata": {},
   "outputs": [
    {
     "name": "stdout",
     "output_type": "stream",
     "text": [
      "[6, 2, 7, 6, 2, 5, 2, 9, 8, 7, 6, 5, 4, 3, 2, 1]\n"
     ]
    }
   ],
   "source": [
    "print (a)"
   ]
  },
  {
   "cell_type": "code",
   "execution_count": 79,
   "id": "2939ab73-0dc1-4fdb-9ad2-5d2ba22dbc95",
   "metadata": {},
   "outputs": [
    {
     "name": "stdout",
     "output_type": "stream",
     "text": [
      "[1, 2, 2, 2, 2, 3, 4, 5, 5, 6, 6, 6, 7, 7, 8, 9]\n"
     ]
    }
   ],
   "source": [
    "a.sort() # accending order \n",
    "print (a)"
   ]
  },
  {
   "cell_type": "code",
   "execution_count": 80,
   "id": "ce6b4f61-cd48-4513-89d1-9627e5d692b1",
   "metadata": {},
   "outputs": [
    {
     "name": "stdout",
     "output_type": "stream",
     "text": [
      "[9, 8, 7, 7, 6, 6, 6, 5, 5, 4, 3, 2, 2, 2, 2, 1]\n"
     ]
    }
   ],
   "source": [
    "a.sort(reverse=True) # desending order \n",
    "print(a)"
   ]
  },
  {
   "cell_type": "code",
   "execution_count": 81,
   "id": "2dce0dfe-5076-4312-83dd-392e3335de5b",
   "metadata": {},
   "outputs": [],
   "source": [
    "a=[11,22]\n",
    "b=[33,44]\n",
    "c=a"
   ]
  },
  {
   "cell_type": "code",
   "execution_count": 82,
   "id": "e006c8a9-a8a7-4fd3-afc3-5d3bb1cf5270",
   "metadata": {},
   "outputs": [
    {
     "name": "stdout",
     "output_type": "stream",
     "text": [
      "[11, 22] 2527149177408\n",
      "[33, 44] 2527149704640\n",
      "[11, 22] 2527149177408\n"
     ]
    }
   ],
   "source": [
    "print(a,id(a))\n",
    "print(b,id(b))\n",
    "print(c,id(c))"
   ]
  },
  {
   "cell_type": "code",
   "execution_count": 83,
   "id": "1c946ce2-2121-45cf-9896-99262b4c120d",
   "metadata": {},
   "outputs": [
    {
     "name": "stdout",
     "output_type": "stream",
     "text": [
      "[11, 22, 45]\n",
      "[11, 22, 45]\n"
     ]
    }
   ],
   "source": [
    "a.append(45)\n",
    "print(a)\n",
    "print(c)"
   ]
  },
  {
   "cell_type": "code",
   "execution_count": 84,
   "id": "51452afd-525e-40a9-ba89-cdd9af865ed8",
   "metadata": {},
   "outputs": [],
   "source": [
    "a=[11,22]\n",
    "b=[33,44]\n",
    "c=a.copy()"
   ]
  },
  {
   "cell_type": "code",
   "execution_count": 85,
   "id": "321fe658-464b-40dd-80f1-c59c053c4faf",
   "metadata": {},
   "outputs": [
    {
     "name": "stdout",
     "output_type": "stream",
     "text": [
      "[11, 22] 2527150033024\n",
      "[33, 44] 2527148947264\n",
      "[11, 22] 2527149797120\n"
     ]
    }
   ],
   "source": [
    "print(a,id(a))\n",
    "print(b,id(b))\n",
    "print(c,id(c))"
   ]
  },
  {
   "cell_type": "code",
   "execution_count": 86,
   "id": "5748ee2d-aca6-436b-9bc6-f94c41a634c6",
   "metadata": {},
   "outputs": [
    {
     "name": "stdout",
     "output_type": "stream",
     "text": [
      "[11, 22, 45]\n",
      "[11, 22]\n"
     ]
    }
   ],
   "source": [
    "a.append(45)\n",
    "print(a)\n",
    "print(c)"
   ]
  },
  {
   "cell_type": "code",
   "execution_count": null,
   "id": "c1cd0cbd-a762-4ffb-8a50-152246708669",
   "metadata": {},
   "outputs": [],
   "source": []
  }
 ],
 "metadata": {
  "kernelspec": {
   "display_name": "Python 3 (ipykernel)",
   "language": "python",
   "name": "python3"
  },
  "language_info": {
   "codemirror_mode": {
    "name": "ipython",
    "version": 3
   },
   "file_extension": ".py",
   "mimetype": "text/x-python",
   "name": "python",
   "nbconvert_exporter": "python",
   "pygments_lexer": "ipython3",
   "version": "3.10.9"
  }
 },
 "nbformat": 4,
 "nbformat_minor": 5
}
