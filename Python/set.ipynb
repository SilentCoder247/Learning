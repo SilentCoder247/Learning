{
 "cells": [
  {
   "cell_type": "code",
   "execution_count": 4,
   "id": "a2490e91-4188-4b55-8002-325f235b91da",
   "metadata": {},
   "outputs": [
    {
     "name": "stdout",
     "output_type": "stream",
     "text": [
      "{96, 33, 36, 52, 22, 11}\n",
      "<class 'set'>\n"
     ]
    }
   ],
   "source": [
    "my_set1 = {11,22,33,52,36,96}\n",
    "print(my_set1)\n",
    "print(type(my_set1))"
   ]
  },
  {
   "cell_type": "code",
   "execution_count": 9,
   "id": "e7e3b927-212e-40fa-a3fe-508daeb9bd14",
   "metadata": {},
   "outputs": [
    {
     "name": "stdout",
     "output_type": "stream",
     "text": [
      "{'krunal', True, (22, 85, 96.2), 202, 2013.33}\n"
     ]
    }
   ],
   "source": [
    "my_set2 = {2013.33,202,'krunal',True,(22,85,96.2)}\n",
    "print(my_set2)"
   ]
  },
  {
   "cell_type": "code",
   "execution_count": 11,
   "id": "0107b0ea-6c35-40d0-89b4-4f0de42db175",
   "metadata": {},
   "outputs": [
    {
     "name": "stdout",
     "output_type": "stream",
     "text": [
      "{33, 66, 22, 55, 11}\n"
     ]
    }
   ],
   "source": [
    "#duplicate value are not allowed \n",
    "my_set3 = {11,22,33,55,33,66,22,55}\n",
    "print (my_set3)"
   ]
  },
  {
   "cell_type": "code",
   "execution_count": 12,
   "id": "32c23951-175b-4c69-b685-527b667595d1",
   "metadata": {},
   "outputs": [
    {
     "ename": "TypeError",
     "evalue": "unhashable type: 'list'",
     "output_type": "error",
     "traceback": [
      "\u001b[1;31m---------------------------------------------------------------------------\u001b[0m",
      "\u001b[1;31mTypeError\u001b[0m                                 Traceback (most recent call last)",
      "Cell \u001b[1;32mIn[12], line 1\u001b[0m\n\u001b[1;32m----> 1\u001b[0m my_set4 \u001b[38;5;241m=\u001b[39m {\u001b[38;5;241m1\u001b[39m,\u001b[38;5;241m2\u001b[39m,\u001b[38;5;241m5\u001b[39m,[\u001b[38;5;241m5\u001b[39m,\u001b[38;5;241m8\u001b[39m,\u001b[38;5;241m6\u001b[39m,\u001b[38;5;241m9\u001b[39m]}\n\u001b[0;32m      2\u001b[0m \u001b[38;5;66;03m#set can not contain any immutable item\u001b[39;00m\n\u001b[0;32m      4\u001b[0m \u001b[38;5;28mprint\u001b[39m(my_set4)\n",
      "\u001b[1;31mTypeError\u001b[0m: unhashable type: 'list'"
     ]
    }
   ],
   "source": [
    "my_set4 = {1,2,5,[5,8,6,9]}\n",
    "#set can not contain any immutable item\n",
    "\n",
    "print(my_set4)"
   ]
  },
  {
   "cell_type": "code",
   "execution_count": 15,
   "id": "377166cf-ec8f-4c39-9ee0-2fe3eae9635c",
   "metadata": {},
   "outputs": [
    {
     "name": "stdout",
     "output_type": "stream",
     "text": [
      "{8, 9, 5, 6}\n"
     ]
    }
   ],
   "source": [
    "#make set from list \n",
    "my_set5 = set([5,8,6,9])\n",
    "print(my_set5)"
   ]
  },
  {
   "cell_type": "code",
   "execution_count": 16,
   "id": "5d4d77fd-e02c-4133-80d3-d3f033ba7408",
   "metadata": {},
   "outputs": [],
   "source": [
    "#make list from set \n",
    "my_list1=list({1,2,3,5,3,5})"
   ]
  },
  {
   "cell_type": "code",
   "execution_count": 18,
   "id": "9b11fd76-4b61-409b-9766-bc335408011c",
   "metadata": {},
   "outputs": [
    {
     "name": "stdout",
     "output_type": "stream",
     "text": [
      "[1, 2, 3, 5]\n"
     ]
    }
   ],
   "source": [
    "print(my_list1)"
   ]
  },
  {
   "cell_type": "code",
   "execution_count": 19,
   "id": "1dee34fd-52bd-43d1-b13f-ecd9f4ce6068",
   "metadata": {},
   "outputs": [],
   "source": [
    "#operation on set"
   ]
  },
  {
   "cell_type": "code",
   "execution_count": 20,
   "id": "cd621c74-6acd-4667-ab5c-e9c7375d973d",
   "metadata": {},
   "outputs": [
    {
     "name": "stdout",
     "output_type": "stream",
     "text": [
      "{96, 33, 36, 52, 22, 11}\n"
     ]
    }
   ],
   "source": [
    "print(my_set1)"
   ]
  },
  {
   "cell_type": "code",
   "execution_count": 22,
   "id": "2f61a830-2fa4-425a-8c98-5169bb311c5c",
   "metadata": {},
   "outputs": [
    {
     "ename": "NameError",
     "evalue": "name 'my_set' is not defined",
     "output_type": "error",
     "traceback": [
      "\u001b[1;31m---------------------------------------------------------------------------\u001b[0m",
      "\u001b[1;31mNameError\u001b[0m                                 Traceback (most recent call last)",
      "Cell \u001b[1;32mIn[22], line 2\u001b[0m\n\u001b[0;32m      1\u001b[0m \u001b[38;5;66;03m#set object not contain any indexing \u001b[39;00m\n\u001b[1;32m----> 2\u001b[0m \u001b[43mmy_set\u001b[49m[\u001b[38;5;241m0\u001b[39m]\n",
      "\u001b[1;31mNameError\u001b[0m: name 'my_set' is not defined"
     ]
    }
   ],
   "source": [
    "#set object not contain any indexing \n",
    "my_set[0]"
   ]
  },
  {
   "cell_type": "code",
   "execution_count": 24,
   "id": "87e0942a-6426-40c7-a0ae-c1a66eb06f65",
   "metadata": {},
   "outputs": [
    {
     "name": "stdout",
     "output_type": "stream",
     "text": [
      "{96, 33, 99, 36, 52, 22, 11}\n"
     ]
    }
   ],
   "source": [
    "#to add element \n",
    "my_set1.add(99)\n",
    "print(my_set1)"
   ]
  },
  {
   "cell_type": "code",
   "execution_count": 26,
   "id": "f07d64f9-964c-4ace-b48e-40b4fe081259",
   "metadata": {},
   "outputs": [
    {
     "name": "stdout",
     "output_type": "stream",
     "text": [
      "{5, 6, 7, 8, 11, 22, 96, 33, 99, 36, 52}\n"
     ]
    }
   ],
   "source": [
    "#add multiple element in set \n",
    "my_set1.update([5,6,7,8])\n",
    "print(my_set1)"
   ]
  },
  {
   "cell_type": "code",
   "execution_count": 27,
   "id": "42e8d29e-cd4e-4f54-802f-bc828e4faa7a",
   "metadata": {},
   "outputs": [
    {
     "name": "stdout",
     "output_type": "stream",
     "text": [
      "{5, 6, 7, 8, 74, 11, 22, 26, 28, 29, 96, 33, 99, 36, 45, 46, 48, 52}\n"
     ]
    }
   ],
   "source": [
    "#add multiple element in set \n",
    "my_set1.update({26,28,29},[45,46,74,48])\n",
    "print(my_set1)"
   ]
  },
  {
   "cell_type": "code",
   "execution_count": 28,
   "id": "2db24986-5714-4070-88ff-52e07c11e112",
   "metadata": {},
   "outputs": [
    {
     "name": "stdout",
     "output_type": "stream",
     "text": [
      "{'krunal', True, (22, 85, 96.2), 202, 2013.33}\n"
     ]
    }
   ],
   "source": [
    "print(my_set2)"
   ]
  },
  {
   "cell_type": "code",
   "execution_count": 29,
   "id": "d0440b25-e903-4ca1-9373-2f179fef6648",
   "metadata": {},
   "outputs": [],
   "source": [
    "my_set2.discard(8) #8 is not prewsent in this list but it didnot give any error"
   ]
  },
  {
   "cell_type": "code",
   "execution_count": 31,
   "id": "d9f6e9b1-5af5-4fa7-a1b5-4479eaa6b533",
   "metadata": {},
   "outputs": [
    {
     "ename": "KeyError",
     "evalue": "8",
     "output_type": "error",
     "traceback": [
      "\u001b[1;31m---------------------------------------------------------------------------\u001b[0m",
      "\u001b[1;31mKeyError\u001b[0m                                  Traceback (most recent call last)",
      "Cell \u001b[1;32mIn[31], line 1\u001b[0m\n\u001b[1;32m----> 1\u001b[0m \u001b[43mmy_set2\u001b[49m\u001b[38;5;241;43m.\u001b[39;49m\u001b[43mremove\u001b[49m\u001b[43m(\u001b[49m\u001b[38;5;241;43m8\u001b[39;49m\u001b[43m)\u001b[49m \u001b[38;5;66;03m#8 is not prewsent in this list but it did give any error\u001b[39;00m\n",
      "\u001b[1;31mKeyError\u001b[0m: 8"
     ]
    }
   ],
   "source": [
    "my_set2.remove(8) #8 is not prewsent in this list but it did give any error"
   ]
  },
  {
   "cell_type": "code",
   "execution_count": 32,
   "id": "79891650-95cc-4959-902f-f78e1bcf89df",
   "metadata": {},
   "outputs": [],
   "source": [
    "my_set2.discard(True) "
   ]
  },
  {
   "cell_type": "code",
   "execution_count": 34,
   "id": "10bea7a3-a1ea-49d7-a93a-145eafb2ab32",
   "metadata": {},
   "outputs": [
    {
     "name": "stdout",
     "output_type": "stream",
     "text": [
      "{'krunal', (22, 85, 96.2), 202, 2013.33}\n"
     ]
    }
   ],
   "source": [
    "print(my_set2)"
   ]
  },
  {
   "cell_type": "code",
   "execution_count": 35,
   "id": "33c15da5-3646-4f57-9c32-8d1113f71dfe",
   "metadata": {},
   "outputs": [],
   "source": [
    "my_set2.remove('krunal') "
   ]
  },
  {
   "cell_type": "code",
   "execution_count": 36,
   "id": "0140b6fd-91ef-475c-8e08-ab9013dfd814",
   "metadata": {},
   "outputs": [
    {
     "name": "stdout",
     "output_type": "stream",
     "text": [
      "{(22, 85, 96.2), 202, 2013.33}\n"
     ]
    }
   ],
   "source": [
    "print(my_set2)"
   ]
  },
  {
   "cell_type": "code",
   "execution_count": 43,
   "id": "1f001a10-ca36-4faa-a647-3ea2186b895a",
   "metadata": {},
   "outputs": [
    {
     "name": "stdout",
     "output_type": "stream",
     "text": [
      "{1, 2, 3, 4, 5, 6, 8}\n"
     ]
    }
   ],
   "source": [
    "my_set3={1,2,3,4,5,6,8}\n",
    "print(my_set3)\n"
   ]
  },
  {
   "cell_type": "code",
   "execution_count": 44,
   "id": "47fbec7b-46d7-46c3-befd-652a4092c31e",
   "metadata": {},
   "outputs": [
    {
     "name": "stdout",
     "output_type": "stream",
     "text": [
      "1\n",
      "{2, 3, 4, 5, 6, 8}\n"
     ]
    }
   ],
   "source": [
    "print(my_set3.pop())\n",
    "print(my_set3)"
   ]
  },
  {
   "cell_type": "code",
   "execution_count": 45,
   "id": "146fc1f4-94a0-428a-a244-b8851bb3cc52",
   "metadata": {},
   "outputs": [
    {
     "name": "stdout",
     "output_type": "stream",
     "text": [
      "2\n",
      "{3, 4, 5, 6, 8}\n"
     ]
    }
   ],
   "source": [
    "print(my_set3.pop())\n",
    "print(my_set3)"
   ]
  },
  {
   "cell_type": "code",
   "execution_count": 46,
   "id": "d3963c00-cbc3-4ab2-8a9a-02ee75cf6e3a",
   "metadata": {},
   "outputs": [
    {
     "name": "stdout",
     "output_type": "stream",
     "text": [
      "set()\n"
     ]
    }
   ],
   "source": [
    "my_set3.clear()\n",
    "print(my_set3)"
   ]
  },
  {
   "cell_type": "code",
   "execution_count": 47,
   "id": "860fdc64-a326-4f8a-93d0-e237d32b5863",
   "metadata": {},
   "outputs": [
    {
     "name": "stdout",
     "output_type": "stream",
     "text": [
      "{0, 1, 2, 3, 4}\n",
      "{10, 11, 12, 13, 14}\n"
     ]
    }
   ],
   "source": [
    "# set operation = union\n",
    "set1 = {0,1,2,3,4}\n",
    "set2 = {10,11,12,13,14}\n",
    "print(set1)\n",
    "print(set2)\n"
   ]
  },
  {
   "cell_type": "code",
   "execution_count": 48,
   "id": "ebb1e421-6592-4639-8cc2-3f93262f4b74",
   "metadata": {},
   "outputs": [
    {
     "name": "stdout",
     "output_type": "stream",
     "text": [
      "{0, 1, 2, 3, 4, 10, 11, 12, 13, 14}\n",
      "{0, 1, 2, 3, 4, 10, 11, 12, 13, 14}\n",
      "{0, 1, 2, 3, 4, 10, 11, 12, 13, 14}\n",
      "{0, 1, 2, 3, 4, 10, 11, 12, 13, 14}\n"
     ]
    }
   ],
   "source": [
    "print(set1 | set2)\n",
    "print(set2 | set1)\n",
    "\n",
    "print (set1.union(set2))\n",
    "print (set2.union(set1))\n"
   ]
  },
  {
   "cell_type": "code",
   "execution_count": 49,
   "id": "1b500997-7bf6-48e6-a762-fb6e291fc06c",
   "metadata": {},
   "outputs": [
    {
     "name": "stdout",
     "output_type": "stream",
     "text": [
      "{0, 1, 2, 3, 4}\n",
      "{0, 2, 4, 11, 13}\n"
     ]
    }
   ],
   "source": [
    "# set operation = union\n",
    "set1 = {0,1,2,3,4}\n",
    "set2 = {0,11,2,13,4}\n",
    "print(set1)\n",
    "print(set2)\n"
   ]
  },
  {
   "cell_type": "code",
   "execution_count": 50,
   "id": "fb482315-ba2c-45f0-aeae-355a5afbdb86",
   "metadata": {},
   "outputs": [
    {
     "name": "stdout",
     "output_type": "stream",
     "text": [
      "{0, 2, 4}\n",
      "{0, 2, 4}\n",
      "{0, 2, 4}\n",
      "{0, 2, 4}\n"
     ]
    }
   ],
   "source": [
    "print(set1 & set2)\n",
    "print(set2 & set1)\n",
    "\n",
    "print (set1.intersection(set2))\n",
    "print (set2.intersection(set1))\n"
   ]
  },
  {
   "cell_type": "code",
   "execution_count": 51,
   "id": "71a9f38e-cdb1-4cf2-ab02-3cc7240c8a8c",
   "metadata": {},
   "outputs": [
    {
     "name": "stdout",
     "output_type": "stream",
     "text": [
      "{1, 3}\n",
      "{11, 13}\n",
      "{1, 3}\n",
      "{11, 13}\n"
     ]
    }
   ],
   "source": [
    "print(set1 - set2)\n",
    "print(set2 - set1)\n",
    "\n",
    "print (set1.difference(set2))\n",
    "print (set2.difference(set1))\n"
   ]
  },
  {
   "cell_type": "code",
   "execution_count": 56,
   "id": "e9f43f8c-3bc1-4ad9-a487-17127b7d7154",
   "metadata": {},
   "outputs": [
    {
     "name": "stdout",
     "output_type": "stream",
     "text": [
      "{1, 3, 11, 13}\n",
      "{1, 3, 11, 13}\n",
      "{1, 3, 11, 13}\n",
      "{1, 3, 11, 13}\n"
     ]
    }
   ],
   "source": [
    "print(set1 ^ set2)\n",
    "print(set2 ^ set1)\n",
    "\n",
    "print (set1.symmetric_difference(set2))\n",
    "print (set2.symmetric_difference(set1))\n"
   ]
  },
  {
   "cell_type": "code",
   "execution_count": null,
   "id": "f0ce4407-4e00-4c1d-8087-ae5cbc2df98b",
   "metadata": {},
   "outputs": [],
   "source": []
  }
 ],
 "metadata": {
  "kernelspec": {
   "display_name": "Python 3 (ipykernel)",
   "language": "python",
   "name": "python3"
  },
  "language_info": {
   "codemirror_mode": {
    "name": "ipython",
    "version": 3
   },
   "file_extension": ".py",
   "mimetype": "text/x-python",
   "name": "python",
   "nbconvert_exporter": "python",
   "pygments_lexer": "ipython3",
   "version": "3.10.9"
  }
 },
 "nbformat": 4,
 "nbformat_minor": 5
}
