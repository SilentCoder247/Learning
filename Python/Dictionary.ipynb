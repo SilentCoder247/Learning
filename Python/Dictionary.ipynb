{
 "cells": [
  {
   "cell_type": "code",
   "execution_count": 1,
   "id": "9c865c0c-74c4-4b0c-82ef-b21f2df2dd57",
   "metadata": {},
   "outputs": [
    {
     "name": "stdout",
     "output_type": "stream",
     "text": [
      "{1: 'Hello', 2: 'Krunal', 3: 5}\n"
     ]
    }
   ],
   "source": [
    "# dictionary\n",
    "dict1= {1:\"Hello\",2:\"Krunal\",3:5}\n",
    "print(dict1)"
   ]
  },
  {
   "cell_type": "code",
   "execution_count": 2,
   "id": "ee716ee2-4c3a-4457-ba6f-51b1af6c0632",
   "metadata": {},
   "outputs": [
    {
     "name": "stdout",
     "output_type": "stream",
     "text": [
      "Hello\n"
     ]
    }
   ],
   "source": [
    "print(dict1[1])\n"
   ]
  },
  {
   "cell_type": "code",
   "execution_count": 3,
   "id": "7a90b821-3015-40e6-9390-efa654ccc0c7",
   "metadata": {},
   "outputs": [
    {
     "name": "stdout",
     "output_type": "stream",
     "text": [
      "Krunal\n"
     ]
    }
   ],
   "source": [
    "print(dict1.get(2))\n"
   ]
  },
  {
   "cell_type": "code",
   "execution_count": 5,
   "id": "993f46a0-050d-479e-b886-50536db70b26",
   "metadata": {},
   "outputs": [
    {
     "name": "stdout",
     "output_type": "stream",
     "text": [
      "None\n"
     ]
    },
    {
     "ename": "KeyError",
     "evalue": "10",
     "output_type": "error",
     "traceback": [
      "\u001b[1;31m---------------------------------------------------------------------------\u001b[0m",
      "\u001b[1;31mKeyError\u001b[0m                                  Traceback (most recent call last)",
      "Cell \u001b[1;32mIn[5], line 2\u001b[0m\n\u001b[0;32m      1\u001b[0m \u001b[38;5;28mprint\u001b[39m(dict1\u001b[38;5;241m.\u001b[39mget(\u001b[38;5;241m20\u001b[39m))  \u001b[38;5;66;03m# if i enter invalid key in this that give me none value \u001b[39;00m\n\u001b[1;32m----> 2\u001b[0m \u001b[38;5;28mprint\u001b[39m(\u001b[43mdict1\u001b[49m\u001b[43m[\u001b[49m\u001b[38;5;241;43m10\u001b[39;49m\u001b[43m]\u001b[49m) \u001b[38;5;66;03m# if i enter invalid key value in this than it give me error\u001b[39;00m\n",
      "\u001b[1;31mKeyError\u001b[0m: 10"
     ]
    }
   ],
   "source": [
    "print(dict1.get(20))  # if i enter invalid key in this that give me none value \n",
    "print(dict1[10]) # if i enter invalid key value in this than it give me error\n"
   ]
  },
  {
   "cell_type": "code",
   "execution_count": 6,
   "id": "6cf55510-6b52-4480-b107-4d1e93095e42",
   "metadata": {},
   "outputs": [],
   "source": [
    "dict1[1] = \"KKM\"\n"
   ]
  },
  {
   "cell_type": "code",
   "execution_count": 7,
   "id": "4d11cdd7-e890-49b3-9a97-59cfc59792ae",
   "metadata": {},
   "outputs": [
    {
     "name": "stdout",
     "output_type": "stream",
     "text": [
      "{1: 'KKM', 2: 'Krunal', 3: 5}\n"
     ]
    }
   ],
   "source": [
    "print(dict1)"
   ]
  },
  {
   "cell_type": "code",
   "execution_count": 12,
   "id": "408c6993-0bdc-42b7-bd2b-54a1bba5aebd",
   "metadata": {},
   "outputs": [],
   "source": [
    "sq = {1:1  , 2: 4 , 3: 9 , 4: 16 , 5: 25}"
   ]
  },
  {
   "cell_type": "code",
   "execution_count": 13,
   "id": "df6b883c-ee8f-4ea0-aa80-c889df6b42d2",
   "metadata": {},
   "outputs": [
    {
     "name": "stdout",
     "output_type": "stream",
     "text": [
      "{1: 1, 2: 4, 3: 9, 4: 16, 5: 25}\n"
     ]
    }
   ],
   "source": [
    "print(sq)"
   ]
  },
  {
   "cell_type": "code",
   "execution_count": 15,
   "id": "305ec52e-05e3-4ce6-b812-7bc5eaf7ff24",
   "metadata": {},
   "outputs": [
    {
     "name": "stdout",
     "output_type": "stream",
     "text": [
      "16\n",
      "Remainig value is :  {1: 1, 2: 4, 3: 9, 5: 25}\n"
     ]
    }
   ],
   "source": [
    "print(sq.pop(4))\n",
    "print(\"Remainig value is : \", sq)"
   ]
  },
  {
   "cell_type": "code",
   "execution_count": 16,
   "id": "0e04e980-b357-4b1c-bf10-14cfee585351",
   "metadata": {},
   "outputs": [
    {
     "name": "stdout",
     "output_type": "stream",
     "text": [
      "(5, 25)\n",
      "{1: 1, 2: 4, 3: 9}\n"
     ]
    }
   ],
   "source": [
    "print(sq.popitem())\n",
    "print(sq)"
   ]
  },
  {
   "cell_type": "code",
   "execution_count": 17,
   "id": "02cffc68-78c6-48a4-8db4-42d963647abe",
   "metadata": {},
   "outputs": [],
   "source": [
    "del sq[1]"
   ]
  },
  {
   "cell_type": "code",
   "execution_count": 18,
   "id": "61e24268-adb5-4ea3-a6b8-43b61f1d4376",
   "metadata": {},
   "outputs": [
    {
     "name": "stdout",
     "output_type": "stream",
     "text": [
      "{2: 4, 3: 9}\n"
     ]
    }
   ],
   "source": [
    "print(sq)"
   ]
  },
  {
   "cell_type": "code",
   "execution_count": 20,
   "id": "fa1fb346-38ef-4fd6-b2b2-142e2b3e3af0",
   "metadata": {},
   "outputs": [],
   "source": [
    "sq1 = {1:1  , 2: 4 , 3: 9 , 4: 16 , 5: 25}"
   ]
  },
  {
   "cell_type": "code",
   "execution_count": 21,
   "id": "dd96c165-0309-4702-bc7d-9b150081836e",
   "metadata": {},
   "outputs": [],
   "source": [
    "sq1.clear()"
   ]
  },
  {
   "cell_type": "code",
   "execution_count": 22,
   "id": "2f2a9e87-d5b3-4479-ad9b-a06acae71f01",
   "metadata": {},
   "outputs": [
    {
     "name": "stdout",
     "output_type": "stream",
     "text": [
      "{}\n"
     ]
    }
   ],
   "source": [
    "print(sq1)"
   ]
  },
  {
   "cell_type": "code",
   "execution_count": 23,
   "id": "79e3c6ac-b596-457c-9509-d1a619a55224",
   "metadata": {},
   "outputs": [],
   "source": [
    "del sq1"
   ]
  },
  {
   "cell_type": "code",
   "execution_count": 24,
   "id": "5eda5974-977d-4424-998f-bf34559e7a01",
   "metadata": {},
   "outputs": [
    {
     "ename": "NameError",
     "evalue": "name 'sq1' is not defined",
     "output_type": "error",
     "traceback": [
      "\u001b[1;31m---------------------------------------------------------------------------\u001b[0m",
      "\u001b[1;31mNameError\u001b[0m                                 Traceback (most recent call last)",
      "Cell \u001b[1;32mIn[24], line 1\u001b[0m\n\u001b[1;32m----> 1\u001b[0m \u001b[38;5;28mprint\u001b[39m(\u001b[43msq1\u001b[49m)\n",
      "\u001b[1;31mNameError\u001b[0m: name 'sq1' is not defined"
     ]
    }
   ],
   "source": [
    "print(sq1)"
   ]
  },
  {
   "cell_type": "code",
   "execution_count": null,
   "id": "5e743f4f-805e-4ebf-b92b-623bc281f965",
   "metadata": {},
   "outputs": [],
   "source": []
  }
 ],
 "metadata": {
  "kernelspec": {
   "display_name": "Python 3 (ipykernel)",
   "language": "python",
   "name": "python3"
  },
  "language_info": {
   "codemirror_mode": {
    "name": "ipython",
    "version": 3
   },
   "file_extension": ".py",
   "mimetype": "text/x-python",
   "name": "python",
   "nbconvert_exporter": "python",
   "pygments_lexer": "ipython3",
   "version": "3.10.9"
  }
 },
 "nbformat": 4,
 "nbformat_minor": 5
}
