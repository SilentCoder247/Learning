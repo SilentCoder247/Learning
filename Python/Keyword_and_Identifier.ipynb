{
 "cells": [
  {
   "cell_type": "code",
   "execution_count": 10,
   "id": "fe95763b-9606-437d-9e76-f99738cb03f9",
   "metadata": {},
   "outputs": [
    {
     "name": "stdout",
     "output_type": "stream",
     "text": [
      "5 == 5 is -->  True\n",
      "5 > 5 is -->  False\n",
      "**********************************************\n",
      "None == 0 is  -->  False\n",
      "None = False is -->  False\n",
      "None == [] is -->  False\n",
      "None == None is -->  True\n"
     ]
    }
   ],
   "source": [
    "print (\"5 == 5 is --> \",5 == 5)\n",
    "print (\"5 > 5 is --> \",5 > 5)\n",
    "\n",
    "\n",
    "print('**********************************************')\n",
    "print (\"None == 0 is  --> \", None == 0)\n",
    "print (\"None = False is --> \", None == False)\n",
    "print (\"None == [] is --> \",None == [])\n",
    "print (\"None == None is --> \",None == None)\n"
   ]
  },
  {
   "cell_type": "code",
   "execution_count": 13,
   "id": "327a5caa-5a9d-4c0d-8bb6-7228dbd7bfbc",
   "metadata": {},
   "outputs": [
    {
     "name": "stdout",
     "output_type": "stream",
     "text": [
      "None\n"
     ]
    }
   ],
   "source": [
    "def a_void_function():\n",
    "    a=1\n",
    "    b=2\n",
    "    c=a+b\n",
    "    # return (c)\n",
    "\n",
    "x=a_void_function()\n",
    "print(x)"
   ]
  },
  {
   "cell_type": "code",
   "execution_count": 18,
   "id": "e650d175-3ae5-409b-ad19-74ede16bfead",
   "metadata": {},
   "outputs": [
    {
     "name": "stdout",
     "output_type": "stream",
     "text": [
      "True and True is -->  True\n",
      "True and False is -->  False\n",
      "False and True is -->  False\n",
      "False and False is -->  False\n",
      "**********************************************\n",
      "True or True is -->  True\n",
      "True or False is -->  True\n",
      "False or True is -->  True\n",
      "False or False is -->  False\n",
      "**********************************************\n",
      "not True is --> False\n",
      "not false is --> True\n"
     ]
    }
   ],
   "source": [
    "print (\"True and True is --> \",True and True)\n",
    "print (\"True and False is --> \",True and False)\n",
    "print (\"False and True is --> \",False and True)\n",
    "print (\"False and False is --> \",False and False)\n",
    "print('**********************************************')\n",
    "print (\"True or True is --> \",True or True)\n",
    "print (\"True or False is --> \",True or False)\n",
    "print (\"False or True is --> \",False or True)\n",
    "print (\"False or False is --> \",False or False)\n",
    "print('**********************************************')\n",
    "print('not True is -->',not True)\n",
    "print('not false is -->',not False)"
   ]
  },
  {
   "cell_type": "code",
   "execution_count": 21,
   "id": "222d1235-496e-47df-96f7-041eb6af23d6",
   "metadata": {},
   "outputs": [],
   "source": [
    "# Assert return bollean value \n",
    "assert 5 > 4\n",
    "# assert 5 > 6\n",
    "assert 5 == 5\n",
    "\n",
    "\n",
    "# it give error because of if state ment is true than it give nothing but if it is false than it give error "
   ]
  },
  {
   "cell_type": "code",
   "execution_count": 25,
   "id": "07dec746-d6a2-411f-ba64-e069f9744609",
   "metadata": {},
   "outputs": [
    {
     "name": "stdout",
     "output_type": "stream",
     "text": [
      "1\n",
      "2\n",
      "3\n",
      "4\n",
      "6\n",
      "7\n",
      "8\n",
      "9\n",
      "10\n"
     ]
    }
   ],
   "source": [
    "# break statement\n",
    "\n",
    "for i in range(1,11):\n",
    "    if i == 5:\n",
    "        continue\n",
    "    print(i)"
   ]
  },
  {
   "cell_type": "markdown",
   "id": "823f15f8-6799-400c-b681-b06f9b12975e",
   "metadata": {},
   "source": [
    "    "
   ]
  },
  {
   "cell_type": "code",
   "execution_count": 28,
   "id": "ce98d17f-7cb9-4156-b1f6-9c8f7e86a85b",
   "metadata": {},
   "outputs": [
    {
     "name": "stdout",
     "output_type": "stream",
     "text": [
      "function1() exectuting\n",
      "function1() exectuting\n"
     ]
    }
   ],
   "source": [
    "#class\n",
    "class ExampleClass:\n",
    "    def function1(parameters):\n",
    "        print(\"function1() exectuting\")\n",
    "    def function2(parameters):\n",
    "        print(\"function1() exectuting\")\n",
    "\n",
    "ob1 = ExampleClass()\n",
    "ob1.function1()\n",
    "ob1.function2()\n"
   ]
  },
  {
   "cell_type": "code",
   "execution_count": 32,
   "id": "37292d12-bc7e-443c-be88-50e225b8ce5f",
   "metadata": {},
   "outputs": [
    {
     "name": "stdout",
     "output_type": "stream",
     "text": [
      "two\n"
     ]
    }
   ],
   "source": [
    "# if ---- elif -----else\n",
    "\n",
    "num = 2\n",
    "if num == 1 :\n",
    "    print('one')\n",
    "\n",
    "elif num == 2:\n",
    "    print(\"two\")\n",
    "\n",
    "else : \n",
    "    print ('something else')\n",
    "          "
   ]
  },
  {
   "cell_type": "code",
   "execution_count": 2,
   "id": "18c32a10-777d-4a7e-980e-a2456ec6a079",
   "metadata": {},
   "outputs": [],
   "source": [
    "#write in file \n",
    "with open('example.txt','w') as my_file:\n",
    "    my_file.write(\"Ganeshay Namah\")"
   ]
  },
  {
   "cell_type": "code",
   "execution_count": null,
   "id": "5af34373-7599-4355-9cd5-4699c953fc1d",
   "metadata": {},
   "outputs": [],
   "source": []
  },
  {
   "cell_type": "code",
   "execution_count": null,
   "id": "3e49968f-67aa-41a9-ac3c-8fb12a0b8ba6",
   "metadata": {},
   "outputs": [],
   "source": []
  }
 ],
 "metadata": {
  "kernelspec": {
   "display_name": "Python 3 (ipykernel)",
   "language": "python",
   "name": "python3"
  },
  "language_info": {
   "codemirror_mode": {
    "name": "ipython",
    "version": 3
   },
   "file_extension": ".py",
   "mimetype": "text/x-python",
   "name": "python",
   "nbconvert_exporter": "python",
   "pygments_lexer": "ipython3",
   "version": "3.10.9"
  }
 },
 "nbformat": 4,
 "nbformat_minor": 5
}
