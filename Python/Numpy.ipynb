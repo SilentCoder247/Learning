{
 "cells": [
  {
   "cell_type": "markdown",
   "id": "11370c1c-7bb1-48bd-9e5a-c96e3807e75b",
   "metadata": {},
   "source": [
    "# what is numpy\n",
    "    array \n",
    "    list \n",
    "    installation\n",
    "    import\n",
    "    "
   ]
  },
  {
   "cell_type": "code",
   "execution_count": 2,
   "id": "9a9d9fec-4024-4ad8-9e06-9c3ace7230fd",
   "metadata": {},
   "outputs": [],
   "source": [
    "# to install numpy"
   ]
  },
  {
   "cell_type": "code",
   "execution_count": 3,
   "id": "9ee789f1-4f0f-433f-9dc6-c297515a17bb",
   "metadata": {},
   "outputs": [
    {
     "name": "stdout",
     "output_type": "stream",
     "text": [
      "Requirement already satisfied: numpy in c:\\users\\krunal\\appdata\\local\\programs\\python\\python310\\lib\\site-packages (1.24.1)\n",
      "Note: you may need to restart the kernel to use updated packages.\n"
     ]
    },
    {
     "name": "stderr",
     "output_type": "stream",
     "text": [
      "\n",
      "[notice] A new release of pip is available: 23.2.1 -> 24.3.1\n",
      "[notice] To update, run: C:\\Users\\Krunal\\AppData\\Local\\Programs\\Python\\Python310\\python.exe -m pip install --upgrade pip\n"
     ]
    }
   ],
   "source": [
    "pip install numpy\n"
   ]
  },
  {
   "cell_type": "code",
   "execution_count": 5,
   "id": "bb589e67-8043-4c10-80b2-eaf07927ccce",
   "metadata": {},
   "outputs": [],
   "source": [
    "# import numpy \n",
    "# as is alias we give then as shot name \n"
   ]
  },
  {
   "cell_type": "code",
   "execution_count": 6,
   "id": "a374ce33-c418-4e1f-aece-0d4dae2b6727",
   "metadata": {},
   "outputs": [],
   "source": [
    "import numpy as np"
   ]
  },
  {
   "cell_type": "code",
   "execution_count": 7,
   "id": "544e0eb4-df5d-4579-8410-0d663df325b5",
   "metadata": {},
   "outputs": [],
   "source": [
    "# IT means that we did not want to write numpy every time now onward we can use np istad of numpy"
   ]
  },
  {
   "cell_type": "code",
   "execution_count": 11,
   "id": "4d0d98ec-4bbe-4870-87a0-977fdc301d4f",
   "metadata": {},
   "outputs": [
    {
     "name": "stdout",
     "output_type": "stream",
     "text": [
      "[1 2 3 4 5]\n",
      "<class 'numpy.ndarray'>\n"
     ]
    }
   ],
   "source": [
    "# creating array \n",
    "x = np.array([1,2,3,4,5])\n",
    "print (x)\n",
    "print (type(x))\n"
   ]
  },
  {
   "cell_type": "code",
   "execution_count": 13,
   "id": "27478c93-ba8b-4498-8370-c168310b47a5",
   "metadata": {},
   "outputs": [
    {
     "name": "stdout",
     "output_type": "stream",
     "text": [
      "[1, 2, 3, 4, 5]\n",
      "<class 'list'>\n"
     ]
    }
   ],
   "source": [
    "# creating List\n",
    "y = [1,2,3,4,5]\n",
    "print (y)\n",
    "print (type(y))"
   ]
  },
  {
   "cell_type": "markdown",
   "id": "e942a0c5-123f-4413-9aa1-93f604d3f67e",
   "metadata": {},
   "source": [
    "# difference of list and Array\n",
    "    data type torage \n",
    "        array : we can use only same type of data \n",
    "        list : we can store data in any formate or data type "
   ]
  },
  {
   "cell_type": "code",
   "execution_count": 14,
   "id": "945d2df6-62cd-4cfc-b399-ba5c7dff9b32",
   "metadata": {},
   "outputs": [],
   "source": [
    "a=np.array([1,2,3,'Krunal'])"
   ]
  },
  {
   "cell_type": "code",
   "execution_count": 15,
   "id": "b8000077-0b8c-4151-b824-f81c5a3e5df6",
   "metadata": {},
   "outputs": [
    {
     "data": {
      "text/plain": [
       "array(['1', '2', '3', 'Krunal'], dtype='<U11')"
      ]
     },
     "execution_count": 15,
     "metadata": {},
     "output_type": "execute_result"
    }
   ],
   "source": [
    "a"
   ]
  },
  {
   "cell_type": "code",
   "execution_count": 16,
   "id": "5e7a23cd-5e37-4839-adb2-146401c392e2",
   "metadata": {},
   "outputs": [],
   "source": [
    "# i enter number and string but it take as only string and convert that"
   ]
  },
  {
   "cell_type": "code",
   "execution_count": 17,
   "id": "91c69d53-5c6d-4126-b22c-0e2a74e56630",
   "metadata": {},
   "outputs": [
    {
     "name": "stdout",
     "output_type": "stream",
     "text": [
      "['Krunal', 1, 2.2]\n"
     ]
    }
   ],
   "source": [
    "l = ['Krunal', 1,2.2]\n",
    "print (l)"
   ]
  },
  {
   "cell_type": "code",
   "execution_count": 18,
   "id": "49bb5aa6-66dc-4982-884c-7865441e2442",
   "metadata": {},
   "outputs": [],
   "source": [
    "# in list wer can store any type of data "
   ]
  },
  {
   "cell_type": "markdown",
   "id": "6891887e-b813-4164-a325-ae6b49843abf",
   "metadata": {},
   "source": [
    "    importing modele\n",
    "        list : we did not want to import any module in list \n",
    "        array : we have to import first numpy module"
   ]
  },
  {
   "cell_type": "markdown",
   "id": "12ec19a7-18b2-4c9c-8384-1da66ce11d00",
   "metadata": {},
   "source": [
    "    Numerical Operation \n",
    "        array : it does faster operation compare to list\n",
    "              : it haple in machine learning "
   ]
  },
  {
   "cell_type": "markdown",
   "id": "e6cc83bc-ac5d-4d1a-bfea-0b71c4baae87",
   "metadata": {},
   "source": [
    "    Modification \n",
    "        list : faster modification it have larger set of operation"
   ]
  },
  {
   "cell_type": "markdown",
   "id": "1d17b582-9378-498c-90c7-c3aeb9ae0a93",
   "metadata": {},
   "source": [
    "    consume less memory \n",
    "        array : it is consume less amemory"
   ]
  },
  {
   "cell_type": "code",
   "execution_count": 26,
   "id": "b79909b7-1857-4f7a-b649-9eb80edf8fc0",
   "metadata": {},
   "outputs": [
    {
     "name": "stdout",
     "output_type": "stream",
     "text": [
      "1.83 µs ± 90 ns per loop (mean ± std. dev. of 7 runs, 1,000,000 loops each)\n"
     ]
    }
   ],
   "source": [
    "#calculate time \n",
    "%timeit [j**4 for j in range(1,9)]"
   ]
  },
  {
   "cell_type": "code",
   "execution_count": 27,
   "id": "2a29ef06-8c9e-4159-bade-9110b71cfab5",
   "metadata": {},
   "outputs": [
    {
     "name": "stdout",
     "output_type": "stream",
     "text": [
      "1.69 µs ± 184 ns per loop (mean ± std. dev. of 7 runs, 1,000,000 loops each)\n"
     ]
    }
   ],
   "source": [
    "%timeit np.arange(1,9)**4"
   ]
  },
  {
   "cell_type": "markdown",
   "id": "fa9f56ea-9ac0-4520-a421-326d03a850ee",
   "metadata": {},
   "source": [
    "# cearte array "
   ]
  },
  {
   "cell_type": "code",
   "execution_count": 29,
   "id": "6967f8ee-a6fb-482e-8653-c6eb7ec91063",
   "metadata": {},
   "outputs": [
    {
     "name": "stdout",
     "output_type": "stream",
     "text": [
      "[1, 2, 3, 4, 5, 6]\n",
      "<class 'list'>\n",
      "[1 2 3 4 5 6]\n",
      "<class 'numpy.ndarray'>\n"
     ]
    }
   ],
   "source": [
    "l = [1,2,3,4,5,6]\n",
    "\n",
    "print (l)\n",
    "print (type(l))\n",
    "\n",
    "a = np.array(l)\n",
    "print (a)\n",
    "print (type(a))"
   ]
  },
  {
   "cell_type": "code",
   "execution_count": 32,
   "id": "44ab69bd-d841-4b3c-8015-e6107d07e8d6",
   "metadata": {},
   "outputs": [
    {
     "name": "stdout",
     "output_type": "stream",
     "text": [
      "please enter number of element do you want to store\n"
     ]
    },
    {
     "name": "stdin",
     "output_type": "stream",
     "text": [
      " 3\n",
      "enter :  1\n",
      "enter :  2\n",
      "enter :  32\n"
     ]
    },
    {
     "name": "stdout",
     "output_type": "stream",
     "text": [
      "['1' '2' '32']\n",
      "<class 'numpy.ndarray'>\n"
     ]
    }
   ],
   "source": [
    "# user input array\n",
    "l=[]\n",
    "print (\"please enter number of element do you want to store\")\n",
    "n= int (input())\n",
    "\n",
    "for i in range(1,n+1):\n",
    "    element = input(\"enter : \")\n",
    "    l.append(element)\n",
    "print (np.array(l))\n",
    "print (type(np.array(l)))\n"
   ]
  },
  {
   "cell_type": "code",
   "execution_count": 34,
   "id": "5f8ffb92-3eea-4333-95a9-527840bd5a41",
   "metadata": {},
   "outputs": [],
   "source": [
    "# here one problum accuar every elements in string \n",
    "        # because in python user input is in string "
   ]
  },
  {
   "cell_type": "code",
   "execution_count": 35,
   "id": "fa4480ce-7c21-4137-9757-8cef79ff8d83",
   "metadata": {},
   "outputs": [
    {
     "name": "stdout",
     "output_type": "stream",
     "text": [
      "please enter number of element do you want to store\n"
     ]
    },
    {
     "name": "stdin",
     "output_type": "stream",
     "text": [
      " 3\n",
      "enter :  1\n",
      "enter :  2\n",
      "enter :  3\n"
     ]
    },
    {
     "name": "stdout",
     "output_type": "stream",
     "text": [
      "[1 2 3]\n",
      "<class 'numpy.ndarray'>\n"
     ]
    }
   ],
   "source": [
    "# user input array\n",
    "l=[]\n",
    "print (\"please enter number of element do you want to store\")\n",
    "n= int (input())\n",
    "\n",
    "for i in range(1,n+1):\n",
    "    element = int(input(\"enter : \"))\n",
    "    # we did type casting here so we convert string into int\n",
    "    l.append(element)\n",
    "print (np.array(l))\n",
    "print (type(np.array(l)))\n"
   ]
  },
  {
   "cell_type": "code",
   "execution_count": 36,
   "id": "5c6d79e7-29e2-495d-bf14-5d4734faf46b",
   "metadata": {},
   "outputs": [],
   "source": [
    "# print dimention of array "
   ]
  },
  {
   "cell_type": "code",
   "execution_count": 39,
   "id": "77669f3f-34f9-4561-a74a-049db222d48b",
   "metadata": {},
   "outputs": [
    {
     "name": "stdout",
     "output_type": "stream",
     "text": [
      "[1, 2, 3, 4, 5, 6]\n",
      "<class 'list'>\n",
      "[1 2 3 4 5 6]\n",
      "<class 'numpy.ndarray'>\n",
      "1\n"
     ]
    }
   ],
   "source": [
    "l = [1,2,3,4,5,6]\n",
    "\n",
    "print (l)\n",
    "print (type(l))\n",
    "\n",
    "a = np.array(l)\n",
    "print (a)\n",
    "print (type(a))\n",
    "print (a.ndim) # it is one dimention\n"
   ]
  },
  {
   "cell_type": "code",
   "execution_count": 43,
   "id": "f23eb4ec-468c-48cb-b0b6-5d85e04726c3",
   "metadata": {},
   "outputs": [
    {
     "name": "stdout",
     "output_type": "stream",
     "text": [
      "[[1 2 3]\n",
      " [5 6 7]]\n",
      "2\n"
     ]
    }
   ],
   "source": [
    "# make two dimention array \n",
    "\n",
    "a2 = np.array([[1,2,3],[5,6,7]])\n",
    "print (a2)\n",
    "print (a2.ndim)"
   ]
  },
  {
   "cell_type": "code",
   "execution_count": 48,
   "id": "22d9745e-f119-4cdc-9548-3e11edc6ddee",
   "metadata": {},
   "outputs": [
    {
     "name": "stdout",
     "output_type": "stream",
     "text": [
      "[[[1 2 3]\n",
      "  [5 6 3]\n",
      "  [7 8 9]]]\n",
      "3\n"
     ]
    }
   ],
   "source": [
    "# make three dimenton array\n",
    "a3 = np.array ([[[1,2,3],[5,6,3],[7,8,9]]])\n",
    "print (a3)\n",
    "print (a3.ndim)"
   ]
  },
  {
   "cell_type": "code",
   "execution_count": 51,
   "id": "f9f1b2c0-4335-43c9-a5e1-21b018e8470c",
   "metadata": {},
   "outputs": [
    {
     "name": "stdout",
     "output_type": "stream",
     "text": [
      "[[[[[[[[[[[[[[[[[[[[55 56 57 58]]]]]]]]]]]]]]]]]]]]\n",
      "20\n"
     ]
    }
   ],
   "source": [
    "# make n dimantion array \n",
    "an = np.array ([55,56,57,58],ndmin=20)\n",
    "print (an)\n",
    "print (an.ndim)"
   ]
  },
  {
   "cell_type": "markdown",
   "id": "e24722e3-a5f0-4ba0-8ffc-e5eea3519661",
   "metadata": {},
   "source": [
    "\n",
    "\n",
    "\n",
    "    \n",
    "\n",
    "     \n",
    "\n",
    "\n",
    "  "
   ]
  },
  {
   "cell_type": "markdown",
   "id": "86004184-5d7c-4bce-8d0e-c4e6072c6e8b",
   "metadata": {},
   "source": [
    "# create special type of array "
   ]
  },
  {
   "cell_type": "markdown",
   "id": "5d641659-2d31-4ee2-9f0a-a2f3733e89f2",
   "metadata": {},
   "source": [
    "1. make array with all zero \n",
    "    "
   ]
  },
  {
   "cell_type": "code",
   "execution_count": 55,
   "id": "db50bda9-820c-485d-881c-ff6cf760bcc6",
   "metadata": {},
   "outputs": [
    {
     "name": "stdout",
     "output_type": "stream",
     "text": [
      "[0. 0. 0. 0. 0.]\n",
      "1\n"
     ]
    }
   ],
   "source": [
    "a_zero = np.zeros(5) # 5 is element number\n",
    "print (a_zero)\n",
    "print (a_zero.ndim)"
   ]
  },
  {
   "cell_type": "code",
   "execution_count": 56,
   "id": "91a58de7-55c3-4791-b1d6-189962047596",
   "metadata": {},
   "outputs": [
    {
     "name": "stdout",
     "output_type": "stream",
     "text": [
      "[[0. 0. 0. 0.]\n",
      " [0. 0. 0. 0.]\n",
      " [0. 0. 0. 0.]]\n",
      "2\n"
     ]
    }
   ],
   "source": [
    "a2_zero = np.zeros((3,4)) # 5 is element number\n",
    "print (a2_zero)\n",
    "print (a2_zero.ndim)"
   ]
  },
  {
   "cell_type": "markdown",
   "id": "003c3b20-77b5-4eca-a5eb-67757482e77d",
   "metadata": {},
   "source": [
    "2. make array with all ONE \n",
    "    "
   ]
  },
  {
   "cell_type": "code",
   "execution_count": 57,
   "id": "a265b254-c560-43bd-83c0-f0e6dd7a3b82",
   "metadata": {},
   "outputs": [
    {
     "name": "stdout",
     "output_type": "stream",
     "text": [
      "[1. 1. 1. 1. 1.]\n",
      "1\n"
     ]
    }
   ],
   "source": [
    "a_one = np.ones(5) # 5 is element number\n",
    "print (a_one)\n",
    "print (a_one.ndim)"
   ]
  },
  {
   "cell_type": "code",
   "execution_count": 58,
   "id": "82ae0905-a680-46cb-ad8f-0c61dabf4c53",
   "metadata": {},
   "outputs": [
    {
     "name": "stdout",
     "output_type": "stream",
     "text": [
      "[[1. 1. 1. 1.]\n",
      " [1. 1. 1. 1.]\n",
      " [1. 1. 1. 1.]]\n",
      "2\n"
     ]
    }
   ],
   "source": [
    "a2_one = np.ones((3,4)) # 5 is element number\n",
    "print (a2_one)\n",
    "print (a2_one.ndim)"
   ]
  },
  {
   "cell_type": "markdown",
   "id": "dd37493b-51b9-4019-a61c-948d67812d00",
   "metadata": {},
   "source": [
    "3. make array with empty"
   ]
  },
  {
   "cell_type": "code",
   "execution_count": 61,
   "id": "d72ff0d8-06f7-4514-9259-87952d7e9fd0",
   "metadata": {},
   "outputs": [
    {
     "name": "stdout",
     "output_type": "stream",
     "text": [
      "[1. 1. 1. 1. 1.]\n"
     ]
    }
   ],
   "source": [
    "a_empty=np.empty(5)\n",
    "print(a_empty)"
   ]
  },
  {
   "cell_type": "markdown",
   "id": "322a8f39-3892-44ec-8b52-b928a9ecdc85",
   "metadata": {},
   "source": [
    "4. make array with range function"
   ]
  },
  {
   "cell_type": "code",
   "execution_count": 62,
   "id": "dd20daac-2c60-4b54-b9ef-6d401f93f7c5",
   "metadata": {},
   "outputs": [
    {
     "name": "stdout",
     "output_type": "stream",
     "text": [
      "[0 1 2 3]\n"
     ]
    }
   ],
   "source": [
    "a_range = np.arange (4)\n",
    "print (a_range)"
   ]
  },
  {
   "cell_type": "markdown",
   "id": "3992c01f-30b1-4497-ae0f-78ce0e2265ce",
   "metadata": {},
   "source": [
    "5. make array with identity matrics"
   ]
  },
  {
   "cell_type": "code",
   "execution_count": 64,
   "id": "1fbe84c0-ba1c-47ea-8f60-c4d42c9fc1c2",
   "metadata": {},
   "outputs": [
    {
     "name": "stdout",
     "output_type": "stream",
     "text": [
      "[[1. 0. 0. 0. 0.]\n",
      " [0. 1. 0. 0. 0.]\n",
      " [0. 0. 1. 0. 0.]\n",
      " [0. 0. 0. 1. 0.]\n",
      " [0. 0. 0. 0. 1.]]\n"
     ]
    }
   ],
   "source": [
    "a_diagonal = np.eye(5)\n",
    "print (a_diagonal)"
   ]
  },
  {
   "cell_type": "code",
   "execution_count": 66,
   "id": "8a936384-5834-410c-ab0d-8a11420b5609",
   "metadata": {},
   "outputs": [
    {
     "name": "stdout",
     "output_type": "stream",
     "text": [
      "[[1. 0. 0. 0. 0.]\n",
      " [0. 1. 0. 0. 0.]\n",
      " [0. 0. 1. 0. 0.]]\n"
     ]
    }
   ],
   "source": [
    "a_diagonal = np.eye(3,5)\n",
    "print (a_diagonal)"
   ]
  },
  {
   "cell_type": "markdown",
   "id": "9d5454ca-aa88-42f1-be23-037f0ba71904",
   "metadata": {},
   "source": [
    "6. make array with line space function"
   ]
  },
  {
   "cell_type": "markdown",
   "id": "0031dec8-708f-4309-8bdf-165449f09720",
   "metadata": {},
   "source": [
    "a_linspace = np.linspace(0,20,num=5)\n",
    "print (a_linspace)"
   ]
  },
  {
   "cell_type": "markdown",
   "id": "4109263f-e2a2-49e8-8623-882042ba2855",
   "metadata": {},
   "source": [
    "  "
   ]
  },
  {
   "cell_type": "markdown",
   "id": "ae469e59-64cc-40a6-89e2-c70d2a6c3790",
   "metadata": {},
   "source": [
    " "
   ]
  },
  {
   "cell_type": "markdown",
   "id": "086bce87-2571-44f2-adaa-61102d3d3b60",
   "metadata": {},
   "source": [
    "# create Numpy Arrays with Random Number"
   ]
  },
  {
   "cell_type": "markdown",
   "id": "97e4e0d1-b8b1-436d-bf95-df0e1ab8f988",
   "metadata": {},
   "source": [
    "1. rand() -- create random value between 0 and 1"
   ]
  },
  {
   "cell_type": "code",
   "execution_count": 70,
   "id": "611a7580-7908-4b0f-b4ce-f9fbd85dd8bc",
   "metadata": {},
   "outputs": [
    {
     "name": "stdout",
     "output_type": "stream",
     "text": [
      "[0.97047036 0.89731484 0.294072   0.91725537 0.67302086]\n"
     ]
    }
   ],
   "source": [
    "a_rand = np.random.rand(5)\n",
    "print (a_rand)"
   ]
  },
  {
   "cell_type": "code",
   "execution_count": 71,
   "id": "760be366-dc75-4a96-871b-dbacb2096610",
   "metadata": {},
   "outputs": [
    {
     "name": "stdout",
     "output_type": "stream",
     "text": [
      "[0.23749297 0.77155743 0.70781197 0.93882465 0.97791702]\n"
     ]
    }
   ],
   "source": [
    "a_rand = np.random.rand(5)\n",
    "print (a_rand)"
   ]
  },
  {
   "cell_type": "markdown",
   "id": "6da0ff3f-a7de-43ec-a3ba-4d0f1bbeaa81",
   "metadata": {},
   "source": [
    "2. randn() -- create random value near to 0 and also it include nagetive value "
   ]
  },
  {
   "cell_type": "code",
   "execution_count": 74,
   "id": "918bf59a-f380-4643-b474-159afb58e1a5",
   "metadata": {},
   "outputs": [
    {
     "name": "stdout",
     "output_type": "stream",
     "text": [
      "[ 1.2223993  -0.07453104  0.65709358 -0.00231849 -1.28256124]\n"
     ]
    }
   ],
   "source": [
    "a_randn = np.random.randn(5)\n",
    "print (a_randn)"
   ]
  },
  {
   "cell_type": "markdown",
   "id": "fe80d733-c7b9-4580-848f-00523bc0cae0",
   "metadata": {},
   "source": [
    "3. ranf() -- create random value in inter val [0,1)"
   ]
  },
  {
   "cell_type": "code",
   "execution_count": 78,
   "id": "84b38365-3e9c-49bf-adcf-3818a96263da",
   "metadata": {},
   "outputs": [
    {
     "name": "stdout",
     "output_type": "stream",
     "text": [
      "[0.90443702 0.79924747 0.99018531 0.64769007 0.17059424]\n"
     ]
    }
   ],
   "source": [
    "a_ranf = np.random.ranf(5)\n",
    "print (a_ranf)"
   ]
  },
  {
   "cell_type": "markdown",
   "id": "6489b2e2-74ec-4bce-a6e9-3a68eef92333",
   "metadata": {},
   "source": [
    "3. randit() -- create random value between our range"
   ]
  },
  {
   "cell_type": "code",
   "execution_count": 81,
   "id": "b5c6d399-e288-4606-b7e1-84b08b832eb0",
   "metadata": {},
   "outputs": [
    {
     "name": "stdout",
     "output_type": "stream",
     "text": [
      "[7 8 6 7 6 7 9 5 7 7]\n"
     ]
    }
   ],
   "source": [
    "# a_randint = np.random.randint(min,max,total_value)\n",
    "a_randint = np.random.randint(5,10,10)\n",
    "print (a_randint)"
   ]
  },
  {
   "cell_type": "code",
   "execution_count": null,
   "id": "cb699162-240b-47e4-94d3-402990e10eb0",
   "metadata": {},
   "outputs": [],
   "source": []
  },
  {
   "cell_type": "markdown",
   "id": "0f65c6d5-0f95-4eda-bd4f-b2c48d6a9b2c",
   "metadata": {},
   "source": [
    "# Arithmatic Operation in array"
   ]
  },
  {
   "cell_type": "code",
   "execution_count": 82,
   "id": "d95768a0-0da9-418d-964f-d51a7ab3b072",
   "metadata": {},
   "outputs": [
    {
     "name": "stdout",
     "output_type": "stream",
     "text": [
      "[4 5 6 7 8]\n"
     ]
    }
   ],
   "source": [
    "a_ari = np.array([1,2,3,4,5])\n",
    "a_ari_add = a_ari + 3\n",
    "print(a_ari_add)"
   ]
  },
  {
   "cell_type": "code",
   "execution_count": 83,
   "id": "a072deff-5f00-485e-b102-a9ae0a5a76b8",
   "metadata": {},
   "outputs": [
    {
     "name": "stdout",
     "output_type": "stream",
     "text": [
      "[ 7  9 11 13 15]\n"
     ]
    }
   ],
   "source": [
    "a1_ari = np.array([1,2,3,4,5])\n",
    "a2_ari = np.array([6,7,8,9,10])\n",
    "\n",
    "ari_add = a1_ari + a2_ari\n",
    "\n",
    "print (ari_add)"
   ]
  },
  {
   "cell_type": "code",
   "execution_count": 84,
   "id": "9f2d78f8-6fc3-4871-bf6f-6939779b5439",
   "metadata": {},
   "outputs": [
    {
     "name": "stdout",
     "output_type": "stream",
     "text": [
      "[-2 -1  0  1  2]\n"
     ]
    }
   ],
   "source": [
    "as_ari = np.array([1,2,3,4,5])\n",
    "as_ari_sub = a_ari - 3\n",
    "print(as_ari_sub)"
   ]
  },
  {
   "cell_type": "markdown",
   "id": "a8836629-ff03-4f65-babf-ce45b5550f2f",
   "metadata": {},
   "source": [
    "  "
   ]
  },
  {
   "cell_type": "markdown",
   "id": "4637c445-9176-4d55-8801-e53f2d5813a4",
   "metadata": {},
   "source": [
    "# function \n",
    "    1. min()\n",
    "    2. max()\n",
    "    3. sqrt ()"
   ]
  },
  {
   "cell_type": "code",
   "execution_count": 110,
   "id": "aa5ae878-c6b8-47f7-b9ec-27b121ca4b49",
   "metadata": {},
   "outputs": [],
   "source": [
    "a = np.array([1,2,3,5,4,7,8,9,6,3,2,5,10,0])"
   ]
  },
  {
   "cell_type": "code",
   "execution_count": 111,
   "id": "5c872921-31c0-45e0-983f-1bb35222d432",
   "metadata": {},
   "outputs": [
    {
     "name": "stdout",
     "output_type": "stream",
     "text": [
      "0\n"
     ]
    }
   ],
   "source": [
    "print ('min : ',np.min(a))"
   ]
  },
  {
   "cell_type": "code",
   "execution_count": 113,
   "id": "483c6766-2995-448c-a2e1-610425fd1fc5",
   "metadata": {},
   "outputs": [
    {
     "name": "stdout",
     "output_type": "stream",
     "text": [
      "min position :  13\n"
     ]
    }
   ],
   "source": [
    "print ('min position : ',np.argmin(a))"
   ]
  },
  {
   "cell_type": "code",
   "execution_count": 112,
   "id": "9a0e95a5-4174-44fc-b1e5-6702d177604a",
   "metadata": {},
   "outputs": [
    {
     "name": "stdout",
     "output_type": "stream",
     "text": [
      "10\n"
     ]
    }
   ],
   "source": [
    "print ('max : ',np.max(a))"
   ]
  },
  {
   "cell_type": "code",
   "execution_count": 114,
   "id": "0969af68-22e0-44c5-9284-743b9be6df16",
   "metadata": {},
   "outputs": [
    {
     "name": "stdout",
     "output_type": "stream",
     "text": [
      "max position :  12\n"
     ]
    }
   ],
   "source": [
    "print ('max position : ',np.argmax(a))"
   ]
  },
  {
   "cell_type": "code",
   "execution_count": null,
   "id": "824fc2b6-6a89-4b54-8839-37762d33c8f1",
   "metadata": {},
   "outputs": [],
   "source": []
  },
  {
   "cell_type": "code",
   "execution_count": 115,
   "id": "0c628333-1d10-47f5-854d-6d9cc858fcd6",
   "metadata": {},
   "outputs": [],
   "source": [
    "a2 = np.array ([[2,1,4,5,6],[4,8,9,6,3]])"
   ]
  },
  {
   "cell_type": "code",
   "execution_count": 118,
   "id": "5db653f5-0b07-4eaf-ae52-3b5f888c8c96",
   "metadata": {},
   "outputs": [
    {
     "name": "stdout",
     "output_type": "stream",
     "text": [
      "[[2 1 4 5 6]\n",
      " [4 8 9 6 3]]\n"
     ]
    }
   ],
   "source": [
    "# axis 0 --> column\n",
    "# axis 1 --> row\n",
    "\n",
    "print (a2)"
   ]
  },
  {
   "cell_type": "code",
   "execution_count": 117,
   "id": "6b2248bd-0b30-4b2a-b0a8-0780a2c99354",
   "metadata": {},
   "outputs": [
    {
     "name": "stdout",
     "output_type": "stream",
     "text": [
      "min :  [2 1 4 5 3]\n"
     ]
    }
   ],
   "source": [
    "print ('min : ',np.min(a2,axis=0))"
   ]
  },
  {
   "cell_type": "code",
   "execution_count": 120,
   "id": "f1bb4185-bf1d-4205-860e-daf0fa8c966a",
   "metadata": {},
   "outputs": [
    {
     "name": "stdout",
     "output_type": "stream",
     "text": [
      "min position :  [0 0 0 0 1]\n"
     ]
    }
   ],
   "source": [
    "print ('min position : ',np.argmin(a2,axis=0))"
   ]
  },
  {
   "cell_type": "markdown",
   "id": "e3b129b7-ea43-4461-81fe-08cf568f5f84",
   "metadata": {},
   "source": [
    "print ('min : ',np.min(a2,axis=1))"
   ]
  },
  {
   "cell_type": "code",
   "execution_count": 122,
   "id": "7b9753b8-5b38-4283-9dbe-ca51e5b73bb0",
   "metadata": {},
   "outputs": [
    {
     "name": "stdout",
     "output_type": "stream",
     "text": [
      "min position :  [4 2]\n"
     ]
    }
   ],
   "source": [
    "print ('min position : ',np.argmax(a2,axis=1))"
   ]
  },
  {
   "cell_type": "code",
   "execution_count": null,
   "id": "fb1588bf-41f2-4c6c-9d41-f0483da7c457",
   "metadata": {},
   "outputs": [],
   "source": []
  },
  {
   "cell_type": "code",
   "execution_count": 125,
   "id": "3250ab39-72f4-4a2d-849e-cfb645aff180",
   "metadata": {},
   "outputs": [
    {
     "name": "stdout",
     "output_type": "stream",
     "text": [
      "sqrt : [1.         1.41421356 1.73205081 2.23606798 2.         2.64575131\n",
      " 2.82842712 3.         2.44948974 1.73205081 1.41421356 2.23606798\n",
      " 3.16227766 0.        ]\n"
     ]
    }
   ],
   "source": [
    "print ('sqrt :', np.sqrt(a))"
   ]
  },
  {
   "cell_type": "code",
   "execution_count": null,
   "id": "654a6ebf-cf13-416a-a480-c87b8f2351d2",
   "metadata": {},
   "outputs": [],
   "source": []
  },
  {
   "cell_type": "code",
   "execution_count": 126,
   "id": "f53c4d69-0dd8-4180-bf75-8908343ddef3",
   "metadata": {},
   "outputs": [
    {
     "name": "stdout",
     "output_type": "stream",
     "text": [
      "sin value is : [0.84147098 0.90929743 0.14112001]\n",
      "cos value is : [ 0.54030231 -0.41614684 -0.9899925 ]\n"
     ]
    }
   ],
   "source": [
    "a3 = np.array ([1,2,3])\n",
    "print ('sin value is :',np.sin(a3))\n",
    "print ('cos value is :',np.cos(a3))"
   ]
  },
  {
   "cell_type": "code",
   "execution_count": 129,
   "id": "c7af81aa-296c-4807-b22a-82e27e2b1f52",
   "metadata": {},
   "outputs": [
    {
     "name": "stdout",
     "output_type": "stream",
     "text": [
      "cumsum value is : [ 1  3  6 12 22]\n"
     ]
    }
   ],
   "source": [
    "# cumsum\n",
    "a4 = np.array ([1,2,3,6,10])\n",
    "\n",
    "print('cumsum value is :',np.cumsum(a4))"
   ]
  },
  {
   "cell_type": "markdown",
   "id": "b04b8c51-63dd-41ab-a6ac-93c506be1d6d",
   "metadata": {},
   "source": [
    " "
   ]
  },
  {
   "cell_type": "markdown",
   "id": "c90a08db-0405-435e-8609-d324b6bd801a",
   "metadata": {},
   "source": [
    " "
   ]
  },
  {
   "cell_type": "markdown",
   "id": "112a32f4-b037-41d1-b7c7-5d0e12ea89dd",
   "metadata": {},
   "source": [
    "# shuffle "
   ]
  },
  {
   "cell_type": "code",
   "execution_count": 254,
   "id": "ff1fbd8f-a264-41f5-b455-999e0cf70c80",
   "metadata": {},
   "outputs": [
    {
     "name": "stdout",
     "output_type": "stream",
     "text": [
      "[1 6 3 2 4 5]\n"
     ]
    }
   ],
   "source": [
    "a_shuf = np.array([1,2,3,4,5,6])\n",
    "np.random.shuffle(a_shuf)\n",
    "print (a_shuf)"
   ]
  },
  {
   "cell_type": "markdown",
   "id": "ea7d8872-e5ad-48d0-9fcd-b1d5eb64438d",
   "metadata": {},
   "source": [
    "# Unique"
   ]
  },
  {
   "cell_type": "code",
   "execution_count": 255,
   "id": "99f277a3-18c9-4e53-8463-49bf5e8588d4",
   "metadata": {},
   "outputs": [
    {
     "name": "stdout",
     "output_type": "stream",
     "text": [
      "[1 2 3 4 5 6 8]\n"
     ]
    }
   ],
   "source": [
    "a_uni = np.array([1,2,3,4,5,6,2,5,8,2,5,4,6,2,4,6])\n",
    "uni=np.unique (a_uni)\n",
    "print (uni)"
   ]
  },
  {
   "cell_type": "code",
   "execution_count": 256,
   "id": "d3935c8e-0742-4543-9d1a-327f0f1e3036",
   "metadata": {},
   "outputs": [
    {
     "name": "stdout",
     "output_type": "stream",
     "text": [
      "(array([1, 2, 3, 4, 5, 6, 8]), array([0, 1, 2, 3, 4, 5, 8], dtype=int64))\n"
     ]
    }
   ],
   "source": [
    "a_uni = np.array([1,2,3,4,5,6,2,5,8,2,5,4,6,2,4,6])\n",
    "uni=np.unique (a_uni,return_index=True)\n",
    "print (uni)"
   ]
  },
  {
   "cell_type": "code",
   "execution_count": 258,
   "id": "d459a31e-7797-46f6-899c-349cfb69c1c2",
   "metadata": {},
   "outputs": [
    {
     "name": "stdout",
     "output_type": "stream",
     "text": [
      "(array([1, 2, 3, 4, 5, 6, 8]), array([1, 4, 1, 3, 3, 3, 1], dtype=int64))\n"
     ]
    }
   ],
   "source": [
    "a_uni = np.array([1,2,3,4,5,6,2,5,8,2,5,4,6,2,4,6])\n",
    "uni=np.unique (a_uni,return_counts=True)\n",
    "print (uni)"
   ]
  },
  {
   "cell_type": "markdown",
   "id": "d832e2ad-a664-4745-af2b-137df5615abf",
   "metadata": {},
   "source": [
    "a_uni = np.array([1,2,3,4,5,6,2,5,8,2,5,4,6,2,4,6])\n",
    "uni=np.unique (a_uni,return_inverse=True)\n",
    "print (uni)"
   ]
  },
  {
   "cell_type": "markdown",
   "id": "209a7fa2-8f7d-4fd5-a31b-b8e18cb11104",
   "metadata": {},
   "source": [
    "# flatten"
   ]
  },
  {
   "cell_type": "code",
   "execution_count": 261,
   "id": "c2725357-2ad5-4783-a8bd-e0a08fc3343c",
   "metadata": {},
   "outputs": [
    {
     "name": "stdout",
     "output_type": "stream",
     "text": [
      "[[1 2 5 6]\n",
      " [8 9 7 6]]\n"
     ]
    }
   ],
   "source": [
    "a_flat = np.array([[1,2,5,6],[8,9,7,6]])\n",
    "print (a_flat)"
   ]
  },
  {
   "cell_type": "code",
   "execution_count": 262,
   "id": "35e61880-d1cf-443c-955a-688b4664c2ad",
   "metadata": {},
   "outputs": [
    {
     "name": "stdout",
     "output_type": "stream",
     "text": [
      "[1 8 2 9 5 7 6 6]\n"
     ]
    }
   ],
   "source": [
    "print (a_flat.flatten(order='F'))"
   ]
  },
  {
   "cell_type": "code",
   "execution_count": 263,
   "id": "2fcd1819-3b90-49ca-95e5-39a9d31f3a9f",
   "metadata": {},
   "outputs": [
    {
     "name": "stdout",
     "output_type": "stream",
     "text": [
      "[1 2 5 6 8 9 7 6]\n"
     ]
    }
   ],
   "source": [
    "print (a_flat.flatten(order='C')) # by default\n"
   ]
  },
  {
   "cell_type": "markdown",
   "id": "63ad6f6a-af6e-42b4-bd15-6c3404481633",
   "metadata": {},
   "source": [
    "# ravel"
   ]
  },
  {
   "cell_type": "code",
   "execution_count": 266,
   "id": "e44cd7f9-3f8b-4bcb-9e8e-07ef1f2506af",
   "metadata": {},
   "outputs": [
    {
     "name": "stdout",
     "output_type": "stream",
     "text": [
      "[1 2 5 6 8 9 7 6]\n"
     ]
    }
   ],
   "source": [
    "print (a_flat.ravel(order='C')) # by default"
   ]
  },
  {
   "cell_type": "code",
   "execution_count": 267,
   "id": "f154f312-a3c2-425e-ac0c-3391b3b56f24",
   "metadata": {},
   "outputs": [
    {
     "name": "stdout",
     "output_type": "stream",
     "text": [
      "[1 8 2 9 5 7 6 6]\n"
     ]
    }
   ],
   "source": [
    "print (a_flat.ravel(order='F')) "
   ]
  },
  {
   "cell_type": "code",
   "execution_count": 269,
   "id": "cdc57bac-de1c-476c-9815-7bd38ea1c3b8",
   "metadata": {},
   "outputs": [
    {
     "name": "stdout",
     "output_type": "stream",
     "text": [
      "[1 2 5 6 8 9 7 6]\n"
     ]
    }
   ],
   "source": [
    "print (a_flat.ravel(order='A'))"
   ]
  },
  {
   "cell_type": "code",
   "execution_count": null,
   "id": "f6787028-5d54-4747-884b-1f8560d38a14",
   "metadata": {},
   "outputs": [],
   "source": []
  },
  {
   "cell_type": "markdown",
   "id": "42683ea5-33d2-4ffb-9cf7-80f79a7767c3",
   "metadata": {},
   "source": [
    "shape in matrix "
   ]
  },
  {
   "cell_type": "code",
   "execution_count": 132,
   "id": "434f7e0b-c8f0-46df-b333-e02c6ebb56fd",
   "metadata": {},
   "outputs": [
    {
     "name": "stdout",
     "output_type": "stream",
     "text": [
      "[[0 1 2 3]\n",
      " [8 9 4 5]]\n",
      "\n",
      "(2, 4)\n"
     ]
    }
   ],
   "source": [
    "a_shap = np.array ([[0,1,2,3],[8,9,4,5]])\n",
    "print (a_shap)\n",
    "print ()\n",
    "print (a_shap.shape)"
   ]
  },
  {
   "cell_type": "code",
   "execution_count": 134,
   "id": "fb143e99-5872-4db0-944c-053eccfb6d90",
   "metadata": {},
   "outputs": [
    {
     "name": "stdout",
     "output_type": "stream",
     "text": [
      "[[[[[1 2 5 4 8]]]]]\n",
      "\n",
      "(1, 1, 1, 1, 5)\n"
     ]
    }
   ],
   "source": [
    "a1_shap = np.array([1,2,5,4,8],ndmin=5)\n",
    "print (a1_shap)\n",
    "print ()\n",
    "print (a1_shap.shape)"
   ]
  },
  {
   "cell_type": "markdown",
   "id": "6a0cb5e1-1f3f-4f2b-bb75-4d63795ce66c",
   "metadata": {},
   "source": [
    "# reshape"
   ]
  },
  {
   "cell_type": "code",
   "execution_count": 141,
   "id": "d5a9d301-bfd5-4c55-965d-b5886d3f0334",
   "metadata": {},
   "outputs": [
    {
     "name": "stdout",
     "output_type": "stream",
     "text": [
      "[[0 1 2 3]\n",
      " [8 9 4 5]]\n",
      "\n",
      "(2, 4)\n",
      "[[0 1 2 3 8 9 4 5]]\n",
      "\n",
      "(1, 8)\n"
     ]
    }
   ],
   "source": [
    "a_shap = np.array ([[0,1,2,3],[8,9,4,5]])\n",
    "print (a_shap)\n",
    "print ()\n",
    "print (a_shap.shape)\n",
    "\n",
    "a_reshap = a_shap.reshape(1,8)\n",
    "print (a_reshap)\n",
    "print ()\n",
    "print (a_reshap.shape)\n"
   ]
  },
  {
   "cell_type": "markdown",
   "id": "5a60560e-e243-41b8-ba5e-d5b50c071169",
   "metadata": {},
   "source": [
    "   "
   ]
  },
  {
   "cell_type": "markdown",
   "id": "0a465aca-e2c1-4b89-9dd5-8e045e19351a",
   "metadata": {},
   "source": [
    "  "
   ]
  },
  {
   "cell_type": "markdown",
   "id": "7008c9c9-266c-43d4-be33-f8ea7df36fe1",
   "metadata": {},
   "source": [
    "# INDEXING IN NUMPY"
   ]
  },
  {
   "cell_type": "code",
   "execution_count": 144,
   "id": "dd454e76-1f90-430f-a12b-702308fe0fc6",
   "metadata": {},
   "outputs": [
    {
     "name": "stdout",
     "output_type": "stream",
     "text": [
      "5\n",
      "3\n"
     ]
    }
   ],
   "source": [
    "a_ind = np.array ([1,2,3,4,5])\n",
    "\n",
    "print(a_ind[-1])\n",
    "print (a_ind[2])"
   ]
  },
  {
   "cell_type": "code",
   "execution_count": 155,
   "id": "20f18bb8-36a9-428f-9410-a9e19a0b8809",
   "metadata": {},
   "outputs": [
    {
     "name": "stdout",
     "output_type": "stream",
     "text": [
      "dimantion: 2\n",
      "[[1 2 3]\n",
      " [4 5 6]]\n",
      "\n",
      "5\n"
     ]
    }
   ],
   "source": [
    "a2_ind = np.array ([[1,2,3],[4,5,6]])\n",
    "print ('dimantion:' ,a2_ind.ndim)\n",
    "print (a2_ind)\n",
    "print ()\n",
    "print (a2_ind[1,1])"
   ]
  },
  {
   "cell_type": "code",
   "execution_count": 156,
   "id": "eff1dabc-20f6-41cc-b1c3-13a325590226",
   "metadata": {},
   "outputs": [
    {
     "name": "stdout",
     "output_type": "stream",
     "text": [
      "dimantion: 3\n",
      "[[[ 1  2  3]\n",
      "  [ 4  5  6]]\n",
      "\n",
      " [[ 7  8  9]\n",
      "  [10 11 12]]]\n",
      "\n",
      "6\n"
     ]
    }
   ],
   "source": [
    "a3_ind = np.array ([[[1,2,3],[4,5,6]],[[7,8,9],[10,11,12]]])\n",
    "print ('dimantion:' ,a3_ind.ndim)\n",
    "print (a3_ind)\n",
    "print ()\n",
    "print (a3_ind[0,1,2])"
   ]
  },
  {
   "cell_type": "markdown",
   "id": "0f86e5a5-dab5-4ab6-bef4-c1ad6331d304",
   "metadata": {},
   "source": [
    "  "
   ]
  },
  {
   "cell_type": "markdown",
   "id": "8813df0a-09f5-47b1-b4db-a659134ff1d4",
   "metadata": {},
   "source": [
    "  "
   ]
  },
  {
   "cell_type": "markdown",
   "id": "08de702a-cef6-449a-9516-12e1fb77acce",
   "metadata": {},
   "source": [
    "# slicing"
   ]
  },
  {
   "cell_type": "markdown",
   "id": "a3a63c0c-1323-4ac3-8f52-61e870b1c544",
   "metadata": {},
   "source": [
    "for perform slicing follow given formula \n",
    "\n",
    "x[starting:ending:step]"
   ]
  },
  {
   "cell_type": "code",
   "execution_count": 161,
   "id": "dc78bbb7-0eb1-49a2-b23d-8da5b576e8a5",
   "metadata": {},
   "outputs": [
    {
     "name": "stdout",
     "output_type": "stream",
     "text": [
      "[ 1  2  3  4  5  6  7  8  9 10]\n"
     ]
    }
   ],
   "source": [
    "a_sli = np.array([1,2,3,4,5,6,7,8,9,10])\n",
    "print (a_sli)"
   ]
  },
  {
   "cell_type": "code",
   "execution_count": 162,
   "id": "50c8414d-42ca-4eaf-98d7-7d772fc2f1ef",
   "metadata": {},
   "outputs": [],
   "source": [
    "# 0  1  2  3  4  5  6  7  8  9  -- INDEXING"
   ]
  },
  {
   "cell_type": "code",
   "execution_count": 160,
   "id": "436d9060-7eb0-4005-8270-b4cc57a42289",
   "metadata": {},
   "outputs": [
    {
     "name": "stdout",
     "output_type": "stream",
     "text": [
      "[3 4 5 6 7 8]\n"
     ]
    }
   ],
   "source": [
    "print (a_sli[2:8])"
   ]
  },
  {
   "cell_type": "code",
   "execution_count": 163,
   "id": "a7a3bb08-44d4-43c3-b332-9bbce6cfe4e4",
   "metadata": {},
   "outputs": [
    {
     "name": "stdout",
     "output_type": "stream",
     "text": [
      "[1 2 3 4 5 6 7 8]\n"
     ]
    }
   ],
   "source": [
    "print (a_sli[:8])"
   ]
  },
  {
   "cell_type": "code",
   "execution_count": 164,
   "id": "6f4a805c-9b0a-46c7-aaf2-01cc7323cad2",
   "metadata": {},
   "outputs": [
    {
     "name": "stdout",
     "output_type": "stream",
     "text": [
      "[ 6  7  8  9 10]\n"
     ]
    }
   ],
   "source": [
    "print (a_sli[5:])"
   ]
  },
  {
   "cell_type": "code",
   "execution_count": 165,
   "id": "a46b11a3-784c-45f2-8f6b-4c860d386aa1",
   "metadata": {},
   "outputs": [
    {
     "name": "stdout",
     "output_type": "stream",
     "text": [
      "[2 4 6 8]\n"
     ]
    }
   ],
   "source": [
    "print (a_sli[1:8:2])"
   ]
  },
  {
   "cell_type": "code",
   "execution_count": 166,
   "id": "5d382f4a-9306-44f2-9208-a04f00981954",
   "metadata": {},
   "outputs": [
    {
     "name": "stdout",
     "output_type": "stream",
     "text": [
      "[ 2  4  6  8 10]\n"
     ]
    }
   ],
   "source": [
    "print (a_sli[1::2])\n"
   ]
  },
  {
   "cell_type": "code",
   "execution_count": 167,
   "id": "b28b24fe-4904-4262-8dc2-8a30a45eed28",
   "metadata": {},
   "outputs": [
    {
     "name": "stdout",
     "output_type": "stream",
     "text": [
      "[1 3 5 7]\n"
     ]
    }
   ],
   "source": [
    "print (a_sli[:8:2])"
   ]
  },
  {
   "cell_type": "markdown",
   "id": "1e2c5034-7ac1-4c88-b3a8-2b428c9ff927",
   "metadata": {},
   "source": [
    "print (a_sli[::2])\n"
   ]
  },
  {
   "cell_type": "code",
   "execution_count": 169,
   "id": "094d0c5b-f01c-4ac0-b65b-f5a68ca9a829",
   "metadata": {},
   "outputs": [
    {
     "name": "stdout",
     "output_type": "stream",
     "text": [
      "[ 1  2  3  4  5  6  7  8  9 10]\n"
     ]
    }
   ],
   "source": [
    "print (a_sli[::])\n"
   ]
  },
  {
   "cell_type": "markdown",
   "id": "9a527851-b769-4fcc-8276-2f59485012b1",
   "metadata": {},
   "source": [
    "   "
   ]
  },
  {
   "cell_type": "markdown",
   "id": "3367961e-38d7-45e7-864b-c13381974178",
   "metadata": {},
   "source": [
    "# iteration in numpy "
   ]
  },
  {
   "cell_type": "code",
   "execution_count": 179,
   "id": "4e962204-2c41-4e43-a4f3-bc56b91a7a28",
   "metadata": {},
   "outputs": [
    {
     "name": "stdout",
     "output_type": "stream",
     "text": [
      "[ 1  2  3  4 55  6  7  8  9]\n"
     ]
    }
   ],
   "source": [
    "a_ite = np.array([1,2,3,4,55,6,7,8,9])\n",
    "print (a_ite)"
   ]
  },
  {
   "cell_type": "code",
   "execution_count": 180,
   "id": "35da5a07-2ef6-48aa-80e6-7568defdcdb3",
   "metadata": {},
   "outputs": [
    {
     "name": "stdout",
     "output_type": "stream",
     "text": [
      "1\n",
      "2\n",
      "3\n",
      "4\n",
      "55\n",
      "6\n",
      "7\n",
      "8\n",
      "9\n"
     ]
    }
   ],
   "source": [
    "for i in a_ite:\n",
    "    print (i)"
   ]
  },
  {
   "cell_type": "code",
   "execution_count": 181,
   "id": "93a5a947-2281-4626-a73f-8870613c24cd",
   "metadata": {},
   "outputs": [
    {
     "name": "stdout",
     "output_type": "stream",
     "text": [
      "[[ 1  2  3  4 55  6  7  8  9]\n",
      " [11 12 13 14 15 16 17 18 19]]\n"
     ]
    }
   ],
   "source": [
    "a2_ite = np.array([[1,2,3,4,55,6,7,8,9],[11,12,13,14,15,16,17,18,19]])\n",
    "print (a2_ite)"
   ]
  },
  {
   "cell_type": "code",
   "execution_count": 187,
   "id": "3992f627-ca00-4b85-81a6-fe05a092e3e5",
   "metadata": {},
   "outputs": [
    {
     "name": "stdout",
     "output_type": "stream",
     "text": [
      "[ 1  2  3  4 55  6  7  8  9]\n",
      "[11 12 13 14 15 16 17 18 19]\n",
      "                   \n",
      "1\n",
      "2\n",
      "3\n",
      "4\n",
      "55\n",
      "6\n",
      "7\n",
      "8\n",
      "9\n",
      "\n",
      "11\n",
      "12\n",
      "13\n",
      "14\n",
      "15\n",
      "16\n",
      "17\n",
      "18\n",
      "19\n",
      "\n"
     ]
    }
   ],
   "source": [
    "for i in a2_ite:\n",
    "    print (i)\n",
    "\n",
    "print (\"                   \")\n",
    "\n",
    "for i in a2_ite:\n",
    "    for j in i:\n",
    "        print(j)\n",
    "    print ()"
   ]
  },
  {
   "cell_type": "code",
   "execution_count": 189,
   "id": "2d9ab97f-2672-4dd6-92eb-0b7e9f436b6b",
   "metadata": {},
   "outputs": [
    {
     "name": "stdout",
     "output_type": "stream",
     "text": [
      "[[[ 1  2  3]\n",
      "  [ 4  5  6]]\n",
      "\n",
      " [[ 7  8  9]\n",
      "  [10 11 12]]]\n"
     ]
    }
   ],
   "source": [
    "a3_ite = np.array ([[[1,2,3],[4,5,6]],[[7,8,9],[10,11,12]]])\n",
    "print (a3_ite)"
   ]
  },
  {
   "cell_type": "code",
   "execution_count": 190,
   "id": "3cc3f903-cc67-408e-8665-1b039ff815b5",
   "metadata": {},
   "outputs": [
    {
     "name": "stdout",
     "output_type": "stream",
     "text": [
      "1\n",
      "2\n",
      "3\n",
      "========\n",
      "4\n",
      "5\n",
      "6\n",
      "========\n",
      "*******\n",
      "7\n",
      "8\n",
      "9\n",
      "========\n",
      "10\n",
      "11\n",
      "12\n",
      "========\n",
      "*******\n"
     ]
    }
   ],
   "source": [
    "for i in a3_ite:\n",
    "    for j in i:\n",
    "        for k in j:\n",
    "            print (k)\n",
    "        print(\"========\")\n",
    "    print(\"*******\")\n"
   ]
  },
  {
   "cell_type": "code",
   "execution_count": 191,
   "id": "02091503-92cd-4254-b18f-111cee7ac634",
   "metadata": {},
   "outputs": [],
   "source": [
    "# using function \n"
   ]
  },
  {
   "cell_type": "markdown",
   "id": "3605bba1-8b28-480c-9cc8-32970758a3e8",
   "metadata": {},
   "source": [
    "# nditer()"
   ]
  },
  {
   "cell_type": "code",
   "execution_count": 192,
   "id": "a56aedaf-c845-422c-a096-0d07d175c134",
   "metadata": {},
   "outputs": [
    {
     "name": "stdout",
     "output_type": "stream",
     "text": [
      "[[[ 1  2  3]\n",
      "  [ 4  5  6]]\n",
      "\n",
      " [[ 7  8  9]\n",
      "  [10 11 12]]]\n"
     ]
    }
   ],
   "source": [
    "a3_ite = np.array ([[[1,2,3],[4,5,6]],[[7,8,9],[10,11,12]]])\n",
    "print (a3_ite)"
   ]
  },
  {
   "cell_type": "code",
   "execution_count": 194,
   "id": "1eef7b91-7a17-4e75-934a-e64e525c6570",
   "metadata": {},
   "outputs": [
    {
     "name": "stdout",
     "output_type": "stream",
     "text": [
      "1\n",
      "2\n",
      "3\n",
      "4\n",
      "5\n",
      "6\n",
      "7\n",
      "8\n",
      "9\n",
      "10\n",
      "11\n",
      "12\n"
     ]
    }
   ],
   "source": [
    "for i in np.nditer(a3_ite):\n",
    "    print(i)"
   ]
  },
  {
   "cell_type": "code",
   "execution_count": 197,
   "id": "e0d0c66a-f922-4a93-bc94-ea0fb7950662",
   "metadata": {},
   "outputs": [
    {
     "name": "stdout",
     "output_type": "stream",
     "text": [
      "b'1'\n",
      "b'2'\n",
      "b'3'\n",
      "b'4'\n",
      "b'5'\n",
      "b'6'\n",
      "b'7'\n",
      "b'8'\n",
      "b'9'\n",
      "b'10'\n",
      "b'11'\n",
      "b'12'\n"
     ]
    }
   ],
   "source": [
    "for i in np.nditer(a3_ite,flags=['buffered'],op_dtypes=[\"S\"]):\n",
    "    print(i)"
   ]
  },
  {
   "cell_type": "markdown",
   "id": "c034ddac-ccd7-4217-9ec1-255a32387315",
   "metadata": {},
   "source": [
    "# ndenumerate()"
   ]
  },
  {
   "cell_type": "code",
   "execution_count": 201,
   "id": "1df8fedf-6cb7-47d6-a199-0b09e0054621",
   "metadata": {},
   "outputs": [
    {
     "data": {
      "text/plain": [
       "array([[[ 1,  2,  3],\n",
       "        [ 4,  5,  6]],\n",
       "\n",
       "       [[ 7,  8,  9],\n",
       "        [10, 11, 12]]])"
      ]
     },
     "execution_count": 201,
     "metadata": {},
     "output_type": "execute_result"
    }
   ],
   "source": [
    "a3_ite"
   ]
  },
  {
   "cell_type": "code",
   "execution_count": 199,
   "id": "b4000299-7131-4440-a28b-5b7338716c26",
   "metadata": {},
   "outputs": [
    {
     "name": "stdout",
     "output_type": "stream",
     "text": [
      "(0, 0, 0) 1\n",
      "(0, 0, 1) 2\n",
      "(0, 0, 2) 3\n",
      "(0, 1, 0) 4\n",
      "(0, 1, 1) 5\n",
      "(0, 1, 2) 6\n",
      "(1, 0, 0) 7\n",
      "(1, 0, 1) 8\n",
      "(1, 0, 2) 9\n",
      "(1, 1, 0) 10\n",
      "(1, 1, 1) 11\n",
      "(1, 1, 2) 12\n"
     ]
    }
   ],
   "source": [
    "for i,d in np.ndenumerate(a3_ite):\n",
    "    print(i,d)"
   ]
  },
  {
   "cell_type": "markdown",
   "id": "e440638b-7255-488d-8dd2-bef91de0a752",
   "metadata": {},
   "source": [
    "  "
   ]
  },
  {
   "cell_type": "markdown",
   "id": "4741c29c-42e3-4045-bb66-d6b59276118d",
   "metadata": {},
   "source": [
    "  "
   ]
  },
  {
   "cell_type": "markdown",
   "id": "5e3ae281-467f-4995-bb86-b3532d80e040",
   "metadata": {},
   "source": [
    "# join and spilt of array"
   ]
  },
  {
   "cell_type": "markdown",
   "id": "dc3784ab-8ce2-4197-86ae-7c75ec6fed0a",
   "metadata": {},
   "source": [
    "1. join"
   ]
  },
  {
   "cell_type": "code",
   "execution_count": 205,
   "id": "8fa10966-c630-433e-a8ee-2366aee8030d",
   "metadata": {},
   "outputs": [
    {
     "name": "stdout",
     "output_type": "stream",
     "text": [
      "[1 2 3 4]\n",
      "\n",
      "[4 5 6 7]\n",
      "new array is this :\n"
     ]
    },
    {
     "ename": "TypeError",
     "evalue": "only integer scalar arrays can be converted to a scalar index",
     "output_type": "error",
     "traceback": [
      "\u001b[1;31m---------------------------------------------------------------------------\u001b[0m",
      "\u001b[1;31mTypeError\u001b[0m                                 Traceback (most recent call last)",
      "Cell \u001b[1;32mIn[205], line 12\u001b[0m\n\u001b[0;32m      8\u001b[0m \u001b[38;5;66;03m# using concatenate function \u001b[39;00m\n\u001b[0;32m     10\u001b[0m \u001b[38;5;28mprint\u001b[39m ( \u001b[38;5;124m'\u001b[39m\u001b[38;5;124mnew array is this :\u001b[39m\u001b[38;5;124m'\u001b[39m)\n\u001b[1;32m---> 12\u001b[0m a13_j \u001b[38;5;241m=\u001b[39m \u001b[43mnp\u001b[49m\u001b[38;5;241;43m.\u001b[39;49m\u001b[43mconcatenate\u001b[49m\u001b[43m(\u001b[49m\u001b[43ma11_j\u001b[49m\u001b[43m,\u001b[49m\u001b[43ma12_j\u001b[49m\u001b[43m)\u001b[49m\n\u001b[0;32m     13\u001b[0m \u001b[38;5;28mprint\u001b[39m (a13_j)\n",
      "File \u001b[1;32m<__array_function__ internals>:200\u001b[0m, in \u001b[0;36mconcatenate\u001b[1;34m(*args, **kwargs)\u001b[0m\n",
      "\u001b[1;31mTypeError\u001b[0m: only integer scalar arrays can be converted to a scalar index"
     ]
    }
   ],
   "source": [
    "a11_j = np.array ([1,2,3,4])\n",
    "a12_j = np. array ([4,5,6,7])\n",
    "print (a11_j)\n",
    "print ()\n",
    "print (a12_j)\n",
    "\n",
    "\n",
    "# using concatenate function \n",
    "\n",
    "print ( 'new array is this :')\n",
    "\n",
    "a13_j = np.concatenate(a11_j,a12_j) # give error becaus noe we have to put two (())\n",
    "print (a13_j)\n"
   ]
  },
  {
   "cell_type": "code",
   "execution_count": 206,
   "id": "76b33287-d0dc-4dbf-b275-e258117a82bf",
   "metadata": {},
   "outputs": [
    {
     "name": "stdout",
     "output_type": "stream",
     "text": [
      "[1 2 3 4]\n",
      "\n",
      "[4 5 6 7]\n",
      "new array is this :\n",
      "[1 2 3 4 4 5 6 7]\n"
     ]
    }
   ],
   "source": [
    "a11_j = np.array ([1,2,3,4])\n",
    "a12_j = np. array ([4,5,6,7])\n",
    "print (a11_j)\n",
    "print ()\n",
    "print (a12_j)\n",
    "\n",
    "\n",
    "# using concatenate function \n",
    "\n",
    "print ( 'new array is this :')\n",
    "\n",
    "a13_j = np.concatenate((a11_j,a12_j))\n",
    "print (a13_j)\n"
   ]
  },
  {
   "cell_type": "code",
   "execution_count": 208,
   "id": "0d875e5a-4397-492a-8d28-5cfc38bffb18",
   "metadata": {},
   "outputs": [
    {
     "name": "stdout",
     "output_type": "stream",
     "text": [
      "[[ 1  2  3  4]\n",
      " [11 12 13 14]]\n",
      "\n",
      "[[ 4  5  6  7]\n",
      " [14 15 16 17]]\n",
      "new 2d array is this :\n",
      "\n",
      "[[ 1  2  3  4]\n",
      " [11 12 13 14]\n",
      " [ 4  5  6  7]\n",
      " [14 15 16 17]]\n"
     ]
    }
   ],
   "source": [
    "a21_j = np.array ([[1,2,3,4],[11,12,13,14]])\n",
    "a22_j = np. array ([[4,5,6,7],[14,15,16,17]])\n",
    "print (a21_j)\n",
    "print ()\n",
    "print (a22_j)\n",
    "\n",
    "\n",
    "# using concatenate function \n",
    "\n",
    "print ( 'new 2d array is this :')\n",
    "print ()\n",
    "a23_j = np.concatenate((a21_j,a22_j))\n",
    "print (a23_j)\n"
   ]
  },
  {
   "cell_type": "code",
   "execution_count": 211,
   "id": "cb445530-14cf-4375-b6d4-ad1f54332248",
   "metadata": {},
   "outputs": [
    {
     "name": "stdout",
     "output_type": "stream",
     "text": [
      "[[ 1  2  3  4]\n",
      " [11 12 13 14]]\n",
      "\n",
      "[[ 4  5  6  7]\n",
      " [14 15 16 17]]\n",
      "new 2d array is this :\n",
      "\n",
      "[[ 1  2  3  4]\n",
      " [11 12 13 14]\n",
      " [ 4  5  6  7]\n",
      " [14 15 16 17]]\n",
      "\n",
      "\n",
      "new 2d array is this :\n",
      "\n",
      "[[ 1  2  3  4  4  5  6  7]\n",
      " [11 12 13 14 14 15 16 17]]\n"
     ]
    }
   ],
   "source": [
    "a21_j = np.array ([[1,2,3,4],[11,12,13,14]])\n",
    "a22_j = np. array ([[4,5,6,7],[14,15,16,17]])\n",
    "print (a21_j)\n",
    "print ()\n",
    "print (a22_j)\n",
    "\n",
    "\n",
    "# using concatenate function \n",
    "\n",
    "print ( 'new 2d array is this :')\n",
    "print ()\n",
    "a23_j = np.concatenate((a21_j,a22_j),axis = 0)\n",
    "print (a23_j)\n",
    "print ()\n",
    "print ()\n",
    "print ( 'new 2d array is this :')\n",
    "print ()\n",
    "a23_j = np.concatenate((a21_j,a22_j),axis = 1)\n",
    "print (a23_j)"
   ]
  },
  {
   "cell_type": "markdown",
   "id": "8392fda9-1b7a-4548-b2af-6f5226098c00",
   "metadata": {},
   "source": [
    " 2. stack"
   ]
  },
  {
   "cell_type": "code",
   "execution_count": 214,
   "id": "21b900c6-c724-44f4-941e-a4ab4fe403e1",
   "metadata": {},
   "outputs": [
    {
     "name": "stdout",
     "output_type": "stream",
     "text": [
      "[1 2 3 4]\n",
      "\n",
      "[4 5 6 7]\n",
      "new array is this :\n",
      "[[1 2 3 4]\n",
      " [4 5 6 7]]\n",
      "\n",
      "new array is this :\n",
      "[[1 4]\n",
      " [2 5]\n",
      " [3 6]\n",
      " [4 7]]\n"
     ]
    }
   ],
   "source": [
    "a11_s = np.array ([1,2,3,4])\n",
    "a12_s = np. array ([4,5,6,7])\n",
    "print (a11_s)\n",
    "print ()\n",
    "print (a12_s)\n",
    "\n",
    "\n",
    "# using concatenate function \n",
    "\n",
    "print ( 'new array is this :')\n",
    "\n",
    "a13_s = np.stack((a11_s,a12_s),axis = 0)\n",
    "print (a13_s)\n",
    "print ()\n",
    "print ( 'new array is this :')\n",
    "\n",
    "a13_s = np.stack((a11_s,a12_s),axis = 1)\n",
    "print (a13_s)"
   ]
  },
  {
   "cell_type": "code",
   "execution_count": 215,
   "id": "c4f1d63b-8b4f-4039-9311-bd1e3c0b9eaa",
   "metadata": {},
   "outputs": [
    {
     "name": "stdout",
     "output_type": "stream",
     "text": [
      "[1 2 3 4 4 5 6 7]\n"
     ]
    }
   ],
   "source": [
    "a13_s = np.hstack((a11_s,a12_s))\n",
    "print (a13_s)"
   ]
  },
  {
   "cell_type": "code",
   "execution_count": 216,
   "id": "2378f460-6e51-47f2-a99d-acb7762f6c35",
   "metadata": {},
   "outputs": [
    {
     "name": "stdout",
     "output_type": "stream",
     "text": [
      "[[1 2 3 4]\n",
      " [4 5 6 7]]\n"
     ]
    }
   ],
   "source": [
    "a13_s = np.vstack((a11_s,a12_s))\n",
    "print (a13_s)"
   ]
  },
  {
   "cell_type": "code",
   "execution_count": 217,
   "id": "4cb1bf0a-99b3-40f6-a7d9-197248a221b7",
   "metadata": {},
   "outputs": [
    {
     "name": "stdout",
     "output_type": "stream",
     "text": [
      "[[[1 4]\n",
      "  [2 5]\n",
      "  [3 6]\n",
      "  [4 7]]]\n"
     ]
    }
   ],
   "source": [
    "a13_s = np.dstack((a11_s,a12_s))\n",
    "print (a13_s)"
   ]
  },
  {
   "cell_type": "markdown",
   "id": "7fe6ae30-f13d-4669-bc96-dec1815f2ec2",
   "metadata": {},
   "source": [
    "  "
   ]
  },
  {
   "cell_type": "markdown",
   "id": "6f32f8ea-41b6-4e8b-a5cf-93658f61b5ef",
   "metadata": {},
   "source": [
    "  "
   ]
  },
  {
   "cell_type": "markdown",
   "id": "8cd00f41-2628-4a51-804a-17c059148960",
   "metadata": {},
   "source": [
    "  "
   ]
  },
  {
   "cell_type": "markdown",
   "id": "998313d8-1a95-4dc0-9cfb-b214567fd085",
   "metadata": {},
   "source": [
    "# split the array"
   ]
  },
  {
   "cell_type": "code",
   "execution_count": 219,
   "id": "37395949-123b-44bb-a51c-46422c658bca",
   "metadata": {},
   "outputs": [
    {
     "name": "stdout",
     "output_type": "stream",
     "text": [
      "[1 2 3 4 5 6 7 8]\n"
     ]
    }
   ],
   "source": [
    "a_split = np.array ([1,2,3,4,5,6,7,8])\n",
    "print (a_split)\n"
   ]
  },
  {
   "cell_type": "code",
   "execution_count": 222,
   "id": "ed2f2285-1d69-4dba-8854-f6932899be4d",
   "metadata": {},
   "outputs": [
    {
     "name": "stdout",
     "output_type": "stream",
     "text": [
      "[array([1, 2]), array([3, 4]), array([5, 6]), array([7]), array([8])]\n"
     ]
    }
   ],
   "source": [
    "as_split = np.array_split(a_split,5)N\n",
    "print (as_split)\n"
   ]
  },
  {
   "cell_type": "code",
   "execution_count": 223,
   "id": "2990d4cb-7c1b-4d21-beaa-de74d4924db8",
   "metadata": {},
   "outputs": [
    {
     "name": "stdout",
     "output_type": "stream",
     "text": [
      "[[ 1  2  3  4]\n",
      " [11 12 13 14]]\n"
     ]
    }
   ],
   "source": [
    "a1_split = np.array ([[1,2,3,4],[11,12,13,14]])\n",
    "print (a1_split)"
   ]
  },
  {
   "cell_type": "code",
   "execution_count": 226,
   "id": "1db6cd2e-e3ec-4454-b667-435f0875f1b3",
   "metadata": {},
   "outputs": [
    {
     "name": "stdout",
     "output_type": "stream",
     "text": [
      "[array([[1, 2, 3, 4]]), array([[11, 12, 13, 14]]), array([], shape=(0, 4), dtype=int32), array([], shape=(0, 4), dtype=int32), array([], shape=(0, 4), dtype=int32)]\n"
     ]
    }
   ],
   "source": [
    "as1_split = np.array_split(a1_split,5)\n",
    "print (as1_split)\n"
   ]
  },
  {
   "cell_type": "markdown",
   "id": "9a437212-3d12-432b-b61d-6d0cd034e069",
   "metadata": {},
   "source": [
    "  "
   ]
  },
  {
   "cell_type": "markdown",
   "id": "315a3468-b391-4fc2-b1c4-25619aa486d0",
   "metadata": {},
   "source": [
    "  "
   ]
  },
  {
   "cell_type": "markdown",
   "id": "9068f0e7-15ed-4fd6-b338-5f2cd3e4e43c",
   "metadata": {},
   "source": [
    "  "
   ]
  },
  {
   "cell_type": "markdown",
   "id": "7e4d8f4e-4947-49e8-bffc-53f9613556fb",
   "metadata": {},
   "source": [
    "  # function like -- search , sort , filter"
   ]
  },
  {
   "cell_type": "markdown",
   "id": "c015fc84-0375-4a06-ba08-a1d326a84b39",
   "metadata": {},
   "source": [
    "1. search"
   ]
  },
  {
   "cell_type": "code",
   "execution_count": 229,
   "id": "1129a8b8-dd95-4536-86ae-c26bac850228",
   "metadata": {},
   "outputs": [
    {
     "name": "stdout",
     "output_type": "stream",
     "text": [
      "[ 1  2 34  5  6  5  7  4  2  1 36  1  5  9]\n"
     ]
    }
   ],
   "source": [
    "a_search = np.array ([1,2,34,5,6,5,7,4,2,1,36,1,5,9])\n",
    "print (a_search)"
   ]
  },
  {
   "cell_type": "code",
   "execution_count": null,
   "id": "2aee0ec8-23dd-47e8-9990-7bf6c02a4591",
   "metadata": {},
   "outputs": [],
   "source": [
    "# 0  1  2  3  4  5  6  7  8  9 10 11  12  13 "
   ]
  },
  {
   "cell_type": "code",
   "execution_count": 230,
   "id": "dc3e9838-3618-4772-8ed5-a57cbd934fc4",
   "metadata": {},
   "outputs": [
    {
     "name": "stdout",
     "output_type": "stream",
     "text": [
      "(array([ 0,  9, 11], dtype=int64),)\n"
     ]
    }
   ],
   "source": [
    "pointer = np.where(a_search == 1)\n",
    "print (pointer)"
   ]
  },
  {
   "cell_type": "code",
   "execution_count": 234,
   "id": "af80f18f-4e5b-462f-8a82-1a549b81b006",
   "metadata": {},
   "outputs": [
    {
     "name": "stdout",
     "output_type": "stream",
     "text": [
      "(array([ 1,  2,  4,  7,  8, 10], dtype=int64),)\n"
     ]
    }
   ],
   "source": [
    "pointer1 = np.where((a_search%2) == 0)\n",
    "print (pointer1)"
   ]
  },
  {
   "cell_type": "markdown",
   "id": "6d0d59bf-9e7b-4334-97a0-eb12f6af4a08",
   "metadata": {},
   "source": [
    "2. search sort array"
   ]
  },
  {
   "cell_type": "code",
   "execution_count": 236,
   "id": "661395fe-70ff-4199-b78b-c1b6416c103e",
   "metadata": {},
   "outputs": [
    {
     "name": "stdout",
     "output_type": "stream",
     "text": [
      "[1 2 3 6 7 9]\n"
     ]
    }
   ],
   "source": [
    "a_ss = np.array([1,2,3,6,7,9])\n",
    "print (a_ss)"
   ]
  },
  {
   "cell_type": "code",
   "execution_count": 238,
   "id": "cacfb872-0ef1-4773-90c3-609b5180dfde",
   "metadata": {},
   "outputs": [
    {
     "name": "stdout",
     "output_type": "stream",
     "text": [
      "3\n"
     ]
    }
   ],
   "source": [
    "#0 1 2 3 4 5 \n",
    "x1 = np.searchsorted(a_ss,5)\n",
    "print (x1)"
   ]
  },
  {
   "cell_type": "code",
   "execution_count": 241,
   "id": "d98d67ba-76f5-4549-9d11-d9cc1ce077c3",
   "metadata": {},
   "outputs": [
    {
     "name": "stdout",
     "output_type": "stream",
     "text": [
      "5\n"
     ]
    }
   ],
   "source": [
    "#0 1 2 3 4 5 \n",
    "x2 = np.searchsorted(a_ss,8,side='Right')\n",
    "print (x2)"
   ]
  },
  {
   "cell_type": "markdown",
   "id": "5d5ce002-0138-4cf0-8d97-4ba5d2fa3f23",
   "metadata": {},
   "source": [
    "# sort the array"
   ]
  },
  {
   "cell_type": "code",
   "execution_count": 242,
   "id": "41839885-253a-4c40-b6ba-2cfe87d6b63b",
   "metadata": {},
   "outputs": [
    {
     "name": "stdout",
     "output_type": "stream",
     "text": [
      "[1 8 9 4 6 5 7 3 2]\n"
     ]
    }
   ],
   "source": [
    "a_sort = np.array([1,8,9,4,6,5,7,3,2])\n",
    "print (a_sort)"
   ]
  },
  {
   "cell_type": "code",
   "execution_count": 243,
   "id": "1c3a058d-d8ae-43a7-961d-4bbc201fffa1",
   "metadata": {},
   "outputs": [
    {
     "name": "stdout",
     "output_type": "stream",
     "text": [
      "[1 2 3 4 5 6 7 8 9]\n"
     ]
    }
   ],
   "source": [
    "print (np.sort(a_sort))"
   ]
  },
  {
   "cell_type": "code",
   "execution_count": 244,
   "id": "6867c85e-c60d-49a7-b8f4-8e537ddd51ea",
   "metadata": {},
   "outputs": [
    {
     "name": "stdout",
     "output_type": "stream",
     "text": [
      "['a' 'g' 't' 'k']\n"
     ]
    }
   ],
   "source": [
    "a1_sort = np.array(['a','g','t','k'])\n",
    "print (a1_sort)"
   ]
  },
  {
   "cell_type": "code",
   "execution_count": 245,
   "id": "cbabceed-f143-4439-b98c-16d9b030d7c2",
   "metadata": {},
   "outputs": [
    {
     "name": "stdout",
     "output_type": "stream",
     "text": [
      "['a' 'g' 'k' 't']\n"
     ]
    }
   ],
   "source": [
    "print (np.sort(a1_sort))"
   ]
  },
  {
   "cell_type": "markdown",
   "id": "0334da7c-cfba-4794-bc40-1afeded96a5f",
   "metadata": {},
   "source": [
    "# filter in array"
   ]
  },
  {
   "cell_type": "code",
   "execution_count": 250,
   "id": "1ecbf5d2-c0f9-458d-9649-32fd04ccbf71",
   "metadata": {},
   "outputs": [
    {
     "name": "stdout",
     "output_type": "stream",
     "text": [
      "[ 1 88 99 44 55 66 15]\n"
     ]
    }
   ],
   "source": [
    "a_filter = np.array([1,88,99,44,55,66,15])\n",
    "print (a_filter)"
   ]
  },
  {
   "cell_type": "code",
   "execution_count": 251,
   "id": "0810c67d-0711-4015-b10d-01fcdbb94c1d",
   "metadata": {},
   "outputs": [
    {
     "name": "stdout",
     "output_type": "stream",
     "text": [
      "[True, False, True, True, False, False, True]\n"
     ]
    }
   ],
   "source": [
    "temp = [True,False,True,True,False,False,True]\n",
    "print (temp)"
   ]
  },
  {
   "cell_type": "code",
   "execution_count": 253,
   "id": "ab2ffb93-4ec8-4516-b3ac-5786c6e2a8df",
   "metadata": {},
   "outputs": [
    {
     "name": "stdout",
     "output_type": "stream",
     "text": [
      "[ 1 99 44 15]\n"
     ]
    }
   ],
   "source": [
    "a_filter_ans = a_filter[temp]\n",
    "print (a_filter_ans)"
   ]
  },
  {
   "cell_type": "code",
   "execution_count": null,
   "id": "66fd5583-afdd-4923-a59a-6eb164507fb2",
   "metadata": {},
   "outputs": [],
   "source": []
  },
  {
   "cell_type": "markdown",
   "id": "f79a24b4-7c28-4659-9d49-3392e8919578",
   "metadata": {},
   "source": [
    "# insert in array"
   ]
  },
  {
   "cell_type": "code",
   "execution_count": 270,
   "id": "a0dd90c1-53d5-412c-a6c7-23d608cc23bf",
   "metadata": {},
   "outputs": [
    {
     "name": "stdout",
     "output_type": "stream",
     "text": [
      "[1 2 5 6]\n"
     ]
    }
   ],
   "source": [
    "a_insert = np.array([1,2,5,6])\n",
    "print (a_insert)"
   ]
  },
  {
   "cell_type": "code",
   "execution_count": 272,
   "id": "f933a3e0-1fee-497f-959a-c6cfe451b038",
   "metadata": {},
   "outputs": [
    {
     "name": "stdout",
     "output_type": "stream",
     "text": [
      "[   1    2    5 5555    6]\n"
     ]
    }
   ],
   "source": [
    "inter = np.insert (a_insert,3,5555)\n",
    "\n",
    "print (inter)"
   ]
  },
  {
   "cell_type": "code",
   "execution_count": 274,
   "id": "254725a7-fea3-4b3b-975f-30a3f3e11d63",
   "metadata": {},
   "outputs": [
    {
     "name": "stdout",
     "output_type": "stream",
     "text": [
      "[66  1  2  5  6 66]\n"
     ]
    }
   ],
   "source": [
    "inter = np.insert (a_insert,(0,4),66)\n",
    "\n",
    "print (inter)"
   ]
  },
  {
   "cell_type": "code",
   "execution_count": null,
   "id": "98ce1246-7f86-4cff-8d92-b51eaab99da2",
   "metadata": {},
   "outputs": [],
   "source": []
  },
  {
   "cell_type": "markdown",
   "id": "681da9e7-d547-470a-8b86-3dc88a205e75",
   "metadata": {},
   "source": [
    "# Matrix in Numpy"
   ]
  },
  {
   "cell_type": "code",
   "execution_count": 275,
   "id": "5d199258-e270-493d-9530-fb655806d34b",
   "metadata": {},
   "outputs": [
    {
     "name": "stdout",
     "output_type": "stream",
     "text": [
      "[[1 2 3]\n",
      " [4 5 6]]\n",
      "<class 'numpy.matrix'>\n"
     ]
    }
   ],
   "source": [
    "a_mat = np.matrix ([[1,2,3],[4,5,6]])\n",
    "print (a_mat)\n",
    "print (type(a_mat))"
   ]
  },
  {
   "cell_type": "code",
   "execution_count": 276,
   "id": "7f1fda1e-8775-437c-aaa7-f848b8f840dc",
   "metadata": {},
   "outputs": [
    {
     "name": "stdout",
     "output_type": "stream",
     "text": [
      "[[11 12 13]\n",
      " [14 15 16]]\n",
      "<class 'numpy.matrix'>\n"
     ]
    }
   ],
   "source": [
    "a1_mat = np.matrix ([[11,12,13],[14,15,16]])\n",
    "print (a1_mat)\n",
    "print (type(a1_mat))"
   ]
  },
  {
   "cell_type": "code",
   "execution_count": 278,
   "id": "30689ab9-8424-4c59-99c0-77cf36f6b08b",
   "metadata": {},
   "outputs": [
    {
     "ename": "ValueError",
     "evalue": "shapes (2,3) and (2,3) not aligned: 3 (dim 1) != 2 (dim 0)",
     "output_type": "error",
     "traceback": [
      "\u001b[1;31m---------------------------------------------------------------------------\u001b[0m",
      "\u001b[1;31mValueError\u001b[0m                                Traceback (most recent call last)",
      "Cell \u001b[1;32mIn[278], line 1\u001b[0m\n\u001b[1;32m----> 1\u001b[0m \u001b[38;5;28mprint\u001b[39m (\u001b[43ma_mat\u001b[49m\u001b[38;5;241;43m*\u001b[39;49m\u001b[43ma1_mat\u001b[49m) \u001b[38;5;66;03m# it give error becase in matrix one  condition must be satisfy \u001b[39;00m\n\u001b[0;32m      2\u001b[0m \u001b[38;5;66;03m# which is if mat-1 's dimantion is i*j \u001b[39;00m\n\u001b[0;32m      3\u001b[0m \u001b[38;5;66;03m# mat - 2 's dimantion is m*n\u001b[39;00m\n\u001b[0;32m      4\u001b[0m \u001b[38;5;66;03m# than m and j must me same and our new matrix dimantion is i*n\u001b[39;00m\n",
      "File \u001b[1;32m~\\AppData\\Local\\Programs\\Python\\Python310\\lib\\site-packages\\numpy\\matrixlib\\defmatrix.py:218\u001b[0m, in \u001b[0;36mmatrix.__mul__\u001b[1;34m(self, other)\u001b[0m\n\u001b[0;32m    215\u001b[0m \u001b[38;5;28;01mdef\u001b[39;00m \u001b[38;5;21m__mul__\u001b[39m(\u001b[38;5;28mself\u001b[39m, other):\n\u001b[0;32m    216\u001b[0m     \u001b[38;5;28;01mif\u001b[39;00m \u001b[38;5;28misinstance\u001b[39m(other, (N\u001b[38;5;241m.\u001b[39mndarray, \u001b[38;5;28mlist\u001b[39m, \u001b[38;5;28mtuple\u001b[39m)) :\n\u001b[0;32m    217\u001b[0m         \u001b[38;5;66;03m# This promotes 1-D vectors to row vectors\u001b[39;00m\n\u001b[1;32m--> 218\u001b[0m         \u001b[38;5;28;01mreturn\u001b[39;00m \u001b[43mN\u001b[49m\u001b[38;5;241;43m.\u001b[39;49m\u001b[43mdot\u001b[49m\u001b[43m(\u001b[49m\u001b[38;5;28;43mself\u001b[39;49m\u001b[43m,\u001b[49m\u001b[43m \u001b[49m\u001b[43masmatrix\u001b[49m\u001b[43m(\u001b[49m\u001b[43mother\u001b[49m\u001b[43m)\u001b[49m\u001b[43m)\u001b[49m\n\u001b[0;32m    219\u001b[0m     \u001b[38;5;28;01mif\u001b[39;00m isscalar(other) \u001b[38;5;129;01mor\u001b[39;00m \u001b[38;5;129;01mnot\u001b[39;00m \u001b[38;5;28mhasattr\u001b[39m(other, \u001b[38;5;124m'\u001b[39m\u001b[38;5;124m__rmul__\u001b[39m\u001b[38;5;124m'\u001b[39m) :\n\u001b[0;32m    220\u001b[0m         \u001b[38;5;28;01mreturn\u001b[39;00m N\u001b[38;5;241m.\u001b[39mdot(\u001b[38;5;28mself\u001b[39m, other)\n",
      "File \u001b[1;32m<__array_function__ internals>:200\u001b[0m, in \u001b[0;36mdot\u001b[1;34m(*args, **kwargs)\u001b[0m\n",
      "\u001b[1;31mValueError\u001b[0m: shapes (2,3) and (2,3) not aligned: 3 (dim 1) != 2 (dim 0)"
     ]
    }
   ],
   "source": [
    "print (a_mat*a1_mat) # it give error becase in matrix one  condition must be satisfy \n",
    "# which is if mat-1 's dimantion is i*j \n",
    "# mat - 2 's dimantion is m*n\n",
    "# than m and j must me same and our new matrix dimantion is i*n"
   ]
  },
  {
   "cell_type": "code",
   "execution_count": 279,
   "id": "a6448d55-2e12-4b5d-a7e0-0c9b24f5a8c3",
   "metadata": {},
   "outputs": [
    {
     "name": "stdout",
     "output_type": "stream",
     "text": [
      "[[11 12 13]\n",
      " [14 15 16]\n",
      " [24 25 26]]\n",
      "<class 'numpy.matrix'>\n"
     ]
    }
   ],
   "source": [
    "a11_mat = np.matrix ([[11,12,13],[14,15,16],[24,25,26]])\n",
    "print (a11_mat)\n",
    "print (type(a11_mat))"
   ]
  },
  {
   "cell_type": "code",
   "execution_count": 282,
   "id": "8867956f-e7fd-48d5-b8fd-3331af6fdbfb",
   "metadata": {},
   "outputs": [
    {
     "name": "stdout",
     "output_type": "stream",
     "text": [
      "[[111 117 123]\n",
      " [258 273 288]]\n"
     ]
    }
   ],
   "source": [
    "print (a_mat*a11_mat) # a_mat -- 2*3\n",
    "                     #  a11 _mat -- 3*3 \n",
    "                    #  out put is 2*3 and conditon is satisfy of j = m"
   ]
  },
  {
   "cell_type": "markdown",
   "id": "89fb3970-7da0-461e-9609-328ed1a0fc52",
   "metadata": {},
   "source": [
    "# function in matrix"
   ]
  },
  {
   "cell_type": "markdown",
   "id": "1c5eec04-b1b5-48df-94ff-b5be52a3adb4",
   "metadata": {},
   "source": [
    "1. Transposse"
   ]
  },
  {
   "cell_type": "code",
   "execution_count": 283,
   "id": "43a5ac58-899a-4a58-bf06-8cf063e0b264",
   "metadata": {},
   "outputs": [
    {
     "name": "stdout",
     "output_type": "stream",
     "text": [
      "[[11 12 13]\n",
      " [14 15 16]\n",
      " [24 25 26]]\n",
      "<class 'numpy.matrix'>\n"
     ]
    }
   ],
   "source": [
    "a11_tra = np.matrix ([[11,12,13],[14,15,16],[24,25,26]])\n",
    "print (a11_tra)\n",
    "print (type(a11_tra))"
   ]
  },
  {
   "cell_type": "code",
   "execution_count": 284,
   "id": "82bd0cd0-afbe-42a4-a1a2-990e3f61737c",
   "metadata": {},
   "outputs": [
    {
     "name": "stdout",
     "output_type": "stream",
     "text": [
      "[[11 14 24]\n",
      " [12 15 25]\n",
      " [13 16 26]]\n"
     ]
    }
   ],
   "source": [
    "print (np.transpose(a11_mat))"
   ]
  },
  {
   "cell_type": "code",
   "execution_count": 285,
   "id": "84accdb6-df9d-496e-a061-a36d17d20d5a",
   "metadata": {},
   "outputs": [
    {
     "name": "stdout",
     "output_type": "stream",
     "text": [
      "[[11 14 24]\n",
      " [12 15 25]\n",
      " [13 16 26]]\n"
     ]
    }
   ],
   "source": [
    "print (a11_mat.T)"
   ]
  },
  {
   "cell_type": "markdown",
   "id": "c668ba40-451a-411b-b79a-f90493d5ce85",
   "metadata": {},
   "source": [
    "2. swapaxes "
   ]
  },
  {
   "cell_type": "code",
   "execution_count": 287,
   "id": "fb28b80f-fb0d-4bdc-88e0-7a809081d895",
   "metadata": {},
   "outputs": [
    {
     "name": "stdout",
     "output_type": "stream",
     "text": [
      "[[11 14 24]\n",
      " [12 15 25]\n",
      " [13 16 26]]\n"
     ]
    }
   ],
   "source": [
    "print (np.swapaxes (a11_mat,0,1))"
   ]
  },
  {
   "cell_type": "code",
   "execution_count": 288,
   "id": "e6651ebd-73b7-46e4-8fb7-25ff45db3aaa",
   "metadata": {},
   "outputs": [
    {
     "name": "stdout",
     "output_type": "stream",
     "text": [
      "[[11 12 13]\n",
      " [14 15 16]\n",
      " [24 25 26]]\n"
     ]
    }
   ],
   "source": [
    "print (a11_tra)"
   ]
  },
  {
   "cell_type": "markdown",
   "id": "626428ef-6d8e-4cf9-84a0-8ff1eb1218fa",
   "metadata": {},
   "source": [
    "3. inverse of matrix"
   ]
  },
  {
   "cell_type": "code",
   "execution_count": 295,
   "id": "129ce363-4c4e-457b-9bf7-4df112616672",
   "metadata": {},
   "outputs": [
    {
     "name": "stdout",
     "output_type": "stream",
     "text": [
      "[[ 4  1]\n",
      " [16 32]]\n"
     ]
    }
   ],
   "source": [
    "a_in = np.matrix([[4,1],[16,32]])\n",
    "print (a_in)"
   ]
  },
  {
   "cell_type": "code",
   "execution_count": 296,
   "id": "8e9cec24-c277-483b-b964-34d47d04fbce",
   "metadata": {},
   "outputs": [
    {
     "name": "stdout",
     "output_type": "stream",
     "text": [
      "[[ 0.28571429 -0.00892857]\n",
      " [-0.14285714  0.03571429]]\n"
     ]
    }
   ],
   "source": [
    "print (np.linalg.inv(a_in))"
   ]
  },
  {
   "cell_type": "markdown",
   "id": "513efbed-7b1d-4efc-8319-a188dcb00b36",
   "metadata": {},
   "source": [
    "4. Power"
   ]
  },
  {
   "cell_type": "code",
   "execution_count": 297,
   "id": "512dd895-7b3c-4b17-aa5d-ce53a79d077a",
   "metadata": {},
   "outputs": [
    {
     "name": "stdout",
     "output_type": "stream",
     "text": [
      "[[  32   36]\n",
      " [ 576 1040]]\n"
     ]
    }
   ],
   "source": [
    "a_powe = np.linalg.matrix_power(a_in,2)\n",
    "print (a_powe)"
   ]
  },
  {
   "cell_type": "markdown",
   "id": "d95ad540-c27a-43b4-84d5-6c1eb326fb5f",
   "metadata": {},
   "source": [
    "5. rank"
   ]
  },
  {
   "cell_type": "code",
   "execution_count": 299,
   "id": "8e65b34c-ed19-40da-8a6b-348c71d77f2f",
   "metadata": {},
   "outputs": [
    {
     "name": "stdout",
     "output_type": "stream",
     "text": [
      "2\n"
     ]
    }
   ],
   "source": [
    "a_rank = np.linalg.matrix_rank(a_in,2)\n",
    "print (a_rank)"
   ]
  },
  {
   "cell_type": "markdown",
   "id": "084f321c-b2eb-478f-8094-f99ca8c801c5",
   "metadata": {},
   "source": [
    "6. determinate "
   ]
  },
  {
   "cell_type": "code",
   "execution_count": 301,
   "id": "f28f0599-3ddf-42b1-9f9c-43bd3580ac27",
   "metadata": {},
   "outputs": [
    {
     "name": "stdout",
     "output_type": "stream",
     "text": [
      "111.99999999999996\n"
     ]
    }
   ],
   "source": [
    "a_deter = np.linalg.det(a_in)\n",
    "print (a_deter)"
   ]
  },
  {
   "cell_type": "code",
   "execution_count": null,
   "id": "8c4808ae-3ba8-4d94-a5f1-8d946058a6d1",
   "metadata": {},
   "outputs": [],
   "source": []
  }
 ],
 "metadata": {
  "kernelspec": {
   "display_name": "Python 3 (ipykernel)",
   "language": "python",
   "name": "python3"
  },
  "language_info": {
   "codemirror_mode": {
    "name": "ipython",
    "version": 3
   },
   "file_extension": ".py",
   "mimetype": "text/x-python",
   "name": "python",
   "nbconvert_exporter": "python",
   "pygments_lexer": "ipython3",
   "version": "3.10.9"
  }
 },
 "nbformat": 4,
 "nbformat_minor": 5
}
