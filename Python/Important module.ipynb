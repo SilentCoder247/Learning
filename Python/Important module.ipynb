{
 "cells": [
  {
   "cell_type": "code",
   "execution_count": 1,
   "id": "75ff091d-f686-46e6-9d34-ad737f7f4cb5",
   "metadata": {},
   "outputs": [],
   "source": [
    "# exception handling |"
   ]
  },
  {
   "cell_type": "code",
   "execution_count": 2,
   "id": "a1567d78-8ce8-4f5d-93f6-c6bdb8fe6095",
   "metadata": {},
   "outputs": [
    {
     "name": "stdout",
     "output_type": "stream",
     "text": [
      "Devision by zer ois not possibli\n"
     ]
    }
   ],
   "source": [
    " try : \n",
    "     a = 100\n",
    "     b = 0\n",
    "     c = a/b\n",
    "     print(\"{}/{}={}\".format(a,b,c))\n",
    " except ZeroDivisionError:\n",
    "     print ('Devision by zer ois not possibli')"
   ]
  },
  {
   "cell_type": "code",
   "execution_count": 6,
   "id": "77c036af-b31c-481c-8daa-944f28a591e4",
   "metadata": {},
   "outputs": [
    {
     "name": "stdin",
     "output_type": "stream",
     "text": [
      "plese enter the first number ... 50\n",
      "plese enter the first number ... 0\n"
     ]
    },
    {
     "name": "stdout",
     "output_type": "stream",
     "text": [
      "Devision by zer ois not possibli\n"
     ]
    }
   ],
   "source": [
    "# user input \n",
    "try : \n",
    "     a = int(input(\"plese enter the first number ...\"))\n",
    "     b = int(input('plese enter the first number ...'))\n",
    "     c = a/b\n",
    "     print(\"{}/{}={}\".format(a,b,c))\n",
    "except ZeroDivisionError:\n",
    "     print ('Devision by zer ois not possibli')"
   ]
  },
  {
   "cell_type": "code",
   "execution_count": 8,
   "id": "2dff71b2-694e-49c8-9d35-38b385514425",
   "metadata": {},
   "outputs": [
    {
     "name": "stdin",
     "output_type": "stream",
     "text": [
      "plese enter the first number ... abx\n"
     ]
    },
    {
     "name": "stdout",
     "output_type": "stream",
     "text": [
      "The data type is not proper\n"
     ]
    }
   ],
   "source": [
    "# user input \n",
    "try : \n",
    "     a = int(input(\"plese enter the first number ...\"))\n",
    "     b = int(input('plese enter the first number ...'))\n",
    "     c = a/b\n",
    "     print(\"{}/{}={}\".format(a,b,c))\n",
    "except ZeroDivisionError:\n",
    "     print ('Devision by zer ois not possibli')\n",
    "except ValueError:\n",
    "     print ('The data type is not proper')"
   ]
  },
  {
   "cell_type": "code",
   "execution_count": 9,
   "id": "06429b42-fb14-4506-a6a4-40f199840270",
   "metadata": {},
   "outputs": [],
   "source": [
    "# user define exception"
   ]
  },
  {
   "cell_type": "code",
   "execution_count": 14,
   "id": "7855e1e4-4aeb-413d-b51e-2491522e7ab9",
   "metadata": {},
   "outputs": [
    {
     "name": "stdin",
     "output_type": "stream",
     "text": [
      "please enter age  84\n"
     ]
    },
    {
     "name": "stdout",
     "output_type": "stream",
     "text": [
      "Age is grater than or equal 18 \n"
     ]
    }
   ],
   "source": [
    "class VoterElligibility (Exception) :\n",
    "    def __int__(self) :\n",
    "        super()\n",
    "\n",
    "try : \n",
    "    age = float(input('please enter age '))\n",
    "    if age < 18 :\n",
    "        raise VoterElligibility\n",
    "\n",
    "except VoterElligibility:\n",
    "    print('Age is less than 18')\n",
    "\n",
    "else : \n",
    "    print('Age is grater than or equal 18 ')"
   ]
  },
  {
   "cell_type": "code",
   "execution_count": 15,
   "id": "f31bfe1c-7786-4dea-be0b-a1e064343239",
   "metadata": {},
   "outputs": [
    {
     "name": "stdin",
     "output_type": "stream",
     "text": [
      "please enter age  15\n"
     ]
    },
    {
     "name": "stdout",
     "output_type": "stream",
     "text": [
      "Age is less than 18\n"
     ]
    }
   ],
   "source": [
    "class VoterElligibility (Exception) :\n",
    "    def __int__(self) :\n",
    "        super()\n",
    "\n",
    "try : \n",
    "    age = float(input('please enter age '))\n",
    "    if age < 18 :\n",
    "        raise VoterElligibility\n",
    "\n",
    "except VoterElligibility:\n",
    "    print('Age is less than 18')\n",
    "\n",
    "else : \n",
    "    print('Age is grater than or equal 18 ')"
   ]
  },
  {
   "cell_type": "code",
   "execution_count": 16,
   "id": "a7e33da7-310f-4431-8c30-f748e7869a16",
   "metadata": {},
   "outputs": [
    {
     "name": "stdin",
     "output_type": "stream",
     "text": [
      "please enter age  55\n"
     ]
    },
    {
     "name": "stdout",
     "output_type": "stream",
     "text": [
      "Age is grater than or equal 18 \n",
      "End of program\n"
     ]
    }
   ],
   "source": [
    "class VoterElligibility (Exception) :\n",
    "    def __int__(self) :\n",
    "        super()\n",
    "\n",
    "try : \n",
    "    age = float(input('please enter age '))\n",
    "    if age < 18 :\n",
    "        raise VoterElligibility\n",
    "\n",
    "except VoterElligibility:\n",
    "    print('Age is less than 18')\n",
    "\n",
    "else : \n",
    "    print('Age is grater than or equal 18 ')\n",
    "\n",
    "finally : \n",
    "    print ('End of program')"
   ]
  },
  {
   "cell_type": "code",
   "execution_count": 19,
   "id": "6a4ef985-bb6a-490d-b64e-4694ca114de2",
   "metadata": {},
   "outputs": [
    {
     "name": "stdin",
     "output_type": "stream",
     "text": [
      "please enter age  'asf'\n"
     ]
    },
    {
     "name": "stdout",
     "output_type": "stream",
     "text": [
      "Age is Not numeric\n"
     ]
    }
   ],
   "source": [
    "class VoterElligibility (Exception) :\n",
    "    def __int__(self) :\n",
    "        super()\n",
    "\n",
    "try : \n",
    "    age = float(input('please enter age '))\n",
    "    if age < 18 :\n",
    "        raise VoterElligibility\n",
    "\n",
    "except VoterElligibility:\n",
    "    print('Age is less than 18')\n",
    "except ValueError:\n",
    "    print('Age is Not numeric')\n",
    "\n",
    "else : \n",
    "    print('Age is grater than or equal 18 ')"
   ]
  },
  {
   "cell_type": "code",
   "execution_count": null,
   "id": "2698e130-e70a-4762-b6a5-7fd01359a2bb",
   "metadata": {},
   "outputs": [],
   "source": []
  }
 ],
 "metadata": {
  "kernelspec": {
   "display_name": "Python 3 (ipykernel)",
   "language": "python",
   "name": "python3"
  },
  "language_info": {
   "codemirror_mode": {
    "name": "ipython",
    "version": 3
   },
   "file_extension": ".py",
   "mimetype": "text/x-python",
   "name": "python",
   "nbconvert_exporter": "python",
   "pygments_lexer": "ipython3",
   "version": "3.10.9"
  }
 },
 "nbformat": 4,
 "nbformat_minor": 5
}
