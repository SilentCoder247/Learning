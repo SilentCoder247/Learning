{
 "cells": [
  {
   "cell_type": "markdown",
   "id": "2d2a0f3a-f98d-45f1-8aaa-35da30c1c4e8",
   "metadata": {},
   "source": [
    "Print Function"
   ]
  },
  {
   "cell_type": "code",
   "execution_count": 2,
   "id": "d97c84f3-4f10-4b0f-b5a2-e666d1fe182f",
   "metadata": {},
   "outputs": [
    {
     "name": "stdout",
     "output_type": "stream",
     "text": [
      "Krunal Kevadiya\n"
     ]
    }
   ],
   "source": [
    "print(\"Krunal Kevadiya\")\n"
   ]
  },
  {
   "cell_type": "code",
   "execution_count": 3,
   "id": "8a584e80-1c83-4136-a2dd-9abee6776134",
   "metadata": {},
   "outputs": [
    {
     "name": "stdout",
     "output_type": "stream",
     "text": [
      "2 3\n"
     ]
    }
   ],
   "source": [
    "a=2\n",
    "b=3\n",
    "print(a,b)\n",
    "\n",
    "# it works like \n",
    "# print (value,...,sep=' ',end='/n') --> it is by default value \n",
    "# we can change value of sep and end \n",
    "\n",
    "\n",
    "\n",
    "# Here function work like \n",
    "# a=2 it print than , it show seperater and by default sep value is one space so it put one space and than b=3\n",
    "# default value of end is new line means at last it goes into new line \n"
   ]
  },
  {
   "cell_type": "markdown",
   "id": "56d473b5-1273-4a67-91da-d468387ed0e0",
   "metadata": {},
   "source": [
    " change in Sep and end"
   ]
  },
  {
   "cell_type": "code",
   "execution_count": 4,
   "id": "1d931090-0c51-4d21-84b4-2d25dcfec8a6",
   "metadata": {},
   "outputs": [
    {
     "name": "stdout",
     "output_type": "stream",
     "text": [
      "2#2@3*abc\n"
     ]
    }
   ],
   "source": [
    "\n",
    "print (a,end=\"#\")\n",
    "print (a,b,sep=\"@\",end=\"*\")\n",
    "print(\"abc\")"
   ]
  },
  {
   "cell_type": "markdown",
   "id": "cc05fd0a-64ab-4969-936b-0315a5afa305",
   "metadata": {},
   "source": [
    "variable declaration "
   ]
  },
  {
   "cell_type": "code",
   "execution_count": 5,
   "id": "e439d185-d949-4d5b-8a6a-4e4a3e5ae600",
   "metadata": {},
   "outputs": [],
   "source": [
    "a=2\n",
    "b=3\n",
    "\n",
    "a,b,c=2,3,4\n"
   ]
  },
  {
   "cell_type": "code",
   "execution_count": 6,
   "id": "fdb57322-12eb-411c-8a6c-da28423f545b",
   "metadata": {},
   "outputs": [
    {
     "name": "stdout",
     "output_type": "stream",
     "text": [
      "2\n",
      "3\n",
      "4\n"
     ]
    }
   ],
   "source": [
    "print (a)\n",
    "print (b)\n",
    "print (c)"
   ]
  },
  {
   "cell_type": "code",
   "execution_count": 5,
   "id": "9f416078-9be2-4b90-aae7-7d89a8e12e71",
   "metadata": {},
   "outputs": [
    {
     "name": "stdout",
     "output_type": "stream",
     "text": [
      "2 2131406422288\n",
      "3 2131406422320\n",
      "2 2131406422288\n"
     ]
    }
   ],
   "source": [
    "a=2\n",
    "b=3\n",
    "\n",
    "a,b,c=2,3,2\n",
    "print (a,id(a))\n",
    "print (b,id(b))\n",
    "print (c,id(c))"
   ]
  },
  {
   "cell_type": "code",
   "execution_count": 7,
   "id": "2384ebd4-1763-48ab-91c7-e065ffe885f2",
   "metadata": {},
   "outputs": [
    {
     "name": "stdout",
     "output_type": "stream",
     "text": [
      "2 2131406422288\n",
      "3 2131406422320\n",
      "2 2131406422288\n",
      "2 2131406422288\n"
     ]
    }
   ],
   "source": [
    "a=2\n",
    "b=3\n",
    "\n",
    "a,b,c=2,3,2\n",
    "print (a,id(a))\n",
    "print (b,id(b))\n",
    "print (c,id(c))\n",
    "print (c,id(c))"
   ]
  },
  {
   "cell_type": "markdown",
   "id": "4ed26612-89b9-4f65-9458-dbb2d580568f",
   "metadata": {},
   "source": [
    "    "
   ]
  },
  {
   "cell_type": "markdown",
   "id": "544facee-c09c-4f69-9101-499913558b71",
   "metadata": {},
   "source": [
    "   "
   ]
  },
  {
   "cell_type": "markdown",
   "id": "995eca42-466d-41af-a5f1-6b1b2dec787c",
   "metadata": {},
   "source": [
    "What is Datatype?\n",
    "\n",
    "Various types of Datatype\n",
    "\n",
    "Number\n",
    "\n",
    "int datatype\n",
    "\n",
    "float datatype\n",
    "\n",
    "complex datatype"
   ]
  },
  {
   "cell_type": "markdown",
   "id": "845ff8fe-f5db-4877-a9e0-6bc698db7fc7",
   "metadata": {},
   "source": [
    "**** Data type in python ****"
   ]
  },
  {
   "cell_type": "markdown",
   "id": "00633792-bf8c-499a-a292-ac78dc4d3470",
   "metadata": {},
   "source": [
    "1) Number : int , float , complex"
   ]
  },
  {
   "cell_type": "code",
   "execution_count": 13,
   "id": "00150ea5-db18-40d2-8f1d-e2c0a7a5ca86",
   "metadata": {},
   "outputs": [
    {
     "name": "stdout",
     "output_type": "stream",
     "text": [
      "<class 'int'>\n",
      "<class 'float'>\n",
      "<class 'complex'>\n"
     ]
    }
   ],
   "source": [
    "a=2              #int type\n",
    "print (type (a))\n",
    "a=5.22             # float type\n",
    "print (type (a))\n",
    "a=2+5j             #complex type\n",
    "print (type (a))"
   ]
  },
  {
   "cell_type": "code",
   "execution_count": 14,
   "id": "ca72d2c3-f4c8-4eac-abf1-06e50ac5a249",
   "metadata": {},
   "outputs": [
    {
     "name": "stdout",
     "output_type": "stream",
     "text": [
      "(6+8j)\n"
     ]
    }
   ],
   "source": [
    "a=complex(6,8)\n",
    "print (a)"
   ]
  },
  {
   "cell_type": "markdown",
   "id": "e39a4314-e954-4551-a7b6-a0f0ce2c8868",
   "metadata": {},
   "source": [
    "2) String Datatype"
   ]
  },
  {
   "cell_type": "code",
   "execution_count": 16,
   "id": "b985cc2e-277f-4e14-9f27-9fd598a3a925",
   "metadata": {},
   "outputs": [
    {
     "name": "stdout",
     "output_type": "stream",
     "text": [
      "<class 'str'>\n",
      "<class 'str'>\n",
      "<class 'str'>\n",
      "<class 'str'>\n",
      "<class 'str'>\n"
     ]
    }
   ],
   "source": [
    "x='abc'\n",
    "y=\"abc\"\n",
    "k=\"\"\"K\"\"\"\n",
    "w='s'\n",
    "z=\"k\"\n",
    "\n",
    "\n",
    "print(type(x))\n",
    "print(type(y))\n",
    "print(type(z))\n",
    "print(type(k))\n",
    "print(type(w))"
   ]
  },
  {
   "cell_type": "code",
   "execution_count": 19,
   "id": "970f2cee-2be2-4961-b418-deb288772728",
   "metadata": {},
   "outputs": [
    {
     "name": "stdout",
     "output_type": "stream",
     "text": [
      "aaabbb\n",
      "aaaaaaaaa\n"
     ]
    }
   ],
   "source": [
    "a,b=\"aaa\",\"bbb\"\n",
    "print (a+b)\n",
    "print (a*3)"
   ]
  },
  {
   "cell_type": "code",
   "execution_count": 24,
   "id": "69a70b03-6d9d-42c0-930d-e12450bde132",
   "metadata": {},
   "outputs": [
    {
     "name": "stdout",
     "output_type": "stream",
     "text": [
      "KRUNAL KEVADIYA\n",
      "krunal kevadiya\n",
      "Krunal kevadiya\n",
      "Krunal Kevadiya\n"
     ]
    }
   ],
   "source": [
    "a=\"KrUNAL KeVAdiYA\"\n",
    "print(a.upper())\n",
    "print(a.lower())\n",
    "print(a.capitalize())\n",
    "print (a.title())"
   ]
  },
  {
   "cell_type": "code",
   "execution_count": null,
   "id": "97050063-44d7-41f8-ade6-5eeb4decd2c0",
   "metadata": {},
   "outputs": [],
   "source": []
  }
 ],
 "metadata": {
  "kernelspec": {
   "display_name": "Python 3 (ipykernel)",
   "language": "python",
   "name": "python3"
  },
  "language_info": {
   "codemirror_mode": {
    "name": "ipython",
    "version": 3
   },
   "file_extension": ".py",
   "mimetype": "text/x-python",
   "name": "python",
   "nbconvert_exporter": "python",
   "pygments_lexer": "ipython3",
   "version": "3.10.9"
  }
 },
 "nbformat": 4,
 "nbformat_minor": 5
}
