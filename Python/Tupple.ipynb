{
 "cells": [
  {
   "cell_type": "code",
   "execution_count": 1,
   "id": "32befeb1-203d-4864-be2d-2ba9e57a7574",
   "metadata": {},
   "outputs": [
    {
     "name": "stdout",
     "output_type": "stream",
     "text": [
      "()\n"
     ]
    }
   ],
   "source": [
    "tuple1 = ()\n",
    "print(tuple1)"
   ]
  },
  {
   "cell_type": "code",
   "execution_count": 2,
   "id": "0f2bf6a7-a53f-47dc-a937-ab706e332081",
   "metadata": {},
   "outputs": [
    {
     "name": "stdout",
     "output_type": "stream",
     "text": [
      "(1, 2, 3)\n"
     ]
    }
   ],
   "source": [
    "tuple2 = (1,2,3)\n",
    "print(tuple2)"
   ]
  },
  {
   "cell_type": "code",
   "execution_count": 3,
   "id": "8131282b-ada9-467a-8d57-31734cbec535",
   "metadata": {
    "editable": true,
    "slideshow": {
     "slide_type": ""
    },
    "tags": []
   },
   "outputs": [
    {
     "name": "stdout",
     "output_type": "stream",
     "text": [
      "(101, 'Antman', 20000.02, False)\n"
     ]
    }
   ],
   "source": [
    "tuple3 = (101,'Antman',20000.02,False)\n",
    "print(tuple3)"
   ]
  },
  {
   "cell_type": "code",
   "execution_count": 5,
   "id": "07fb8316-7dfe-437e-8add-504eee0a22af",
   "metadata": {},
   "outputs": [
    {
     "name": "stdout",
     "output_type": "stream",
     "text": [
      "(101, [1, 'i', 66.25], ('Antman', 20000.02), False)\n"
     ]
    }
   ],
   "source": [
    "tuple4 = (101,[1,'i',66.25],('Antman',20000.02),False)\n",
    "print(tuple4)"
   ]
  },
  {
   "cell_type": "code",
   "execution_count": 6,
   "id": "f95032f9-afb1-4896-ab2c-ee954f985296",
   "metadata": {},
   "outputs": [],
   "source": [
    "# TUPLE INITIALIXATION WITHOUT ANY BRAKET"
   ]
  },
  {
   "cell_type": "code",
   "execution_count": 7,
   "id": "f66a64a4-7e28-492b-8b4a-15a0cb5a97e8",
   "metadata": {},
   "outputs": [
    {
     "name": "stdout",
     "output_type": "stream",
     "text": [
      "(101, 'Krunal', False, 558.256)\n"
     ]
    }
   ],
   "source": [
    "tuple5 = 101,'Krunal',False,558.256\n",
    "print(tuple5)"
   ]
  },
  {
   "cell_type": "code",
   "execution_count": 13,
   "id": "dce6fea6-33ee-4aa4-9ccd-47753df65a50",
   "metadata": {},
   "outputs": [
    {
     "name": "stdout",
     "output_type": "stream",
     "text": [
      "1\n",
      "<class 'int'>\n"
     ]
    }
   ],
   "source": [
    "tuple6 = 1,25545,'radhe'\n",
    "empid,empnumber,empname = tuple6\n",
    "\n",
    "print(empid)\n",
    "print(type(empid))\n"
   ]
  },
  {
   "cell_type": "code",
   "execution_count": 14,
   "id": "e937db92-0640-4eca-83b4-8031905efc0d",
   "metadata": {},
   "outputs": [],
   "source": [
    "# characteristic of tuple "
   ]
  },
  {
   "cell_type": "code",
   "execution_count": 15,
   "id": "951053c5-9ed3-460d-8b76-765af98bf288",
   "metadata": {},
   "outputs": [
    {
     "name": "stdout",
     "output_type": "stream",
     "text": [
      "('w', 'e', 'l', 'c', 'o', 'm', 'e')\n"
     ]
    }
   ],
   "source": [
    "tuple7 = ('w','e','l','c','o','m','e')\n",
    "print(tuple7)"
   ]
  },
  {
   "cell_type": "code",
   "execution_count": 16,
   "id": "4300d5a7-8a55-4dc7-a87a-e5b7924a84ce",
   "metadata": {},
   "outputs": [
    {
     "ename": "TypeError",
     "evalue": "'tuple' object does not support item assignment",
     "output_type": "error",
     "traceback": [
      "\u001b[1;31m---------------------------------------------------------------------------\u001b[0m",
      "\u001b[1;31mTypeError\u001b[0m                                 Traceback (most recent call last)",
      "Cell \u001b[1;32mIn[16], line 1\u001b[0m\n\u001b[1;32m----> 1\u001b[0m \u001b[43mtuple7\u001b[49m\u001b[43m[\u001b[49m\u001b[38;5;241;43m2\u001b[39;49m\u001b[43m]\u001b[49m\u001b[38;5;241m=\u001b[39m\u001b[38;5;241m84\u001b[39m\n",
      "\u001b[1;31mTypeError\u001b[0m: 'tuple' object does not support item assignment"
     ]
    }
   ],
   "source": [
    "tuple7[2]=84"
   ]
  },
  {
   "cell_type": "code",
   "execution_count": 21,
   "id": "200ebb17-7468-4d17-9cfa-43fe53e56fe2",
   "metadata": {},
   "outputs": [
    {
     "name": "stdout",
     "output_type": "stream",
     "text": [
      "('k', 'r', 'u', 'n', 'a', 'l')\n"
     ]
    }
   ],
   "source": [
    "tuple7 = ('k','r','u','n','a','l')\n",
    "print(tuple7)"
   ]
  },
  {
   "cell_type": "code",
   "execution_count": 19,
   "id": "14a55301-7590-4263-9c92-5f16d05f5725",
   "metadata": {},
   "outputs": [],
   "source": [
    "# it happend because we can initialized tuple again but we can not edit or aqdd new element in same tuple if we add that it give  type error"
   ]
  },
  {
   "cell_type": "code",
   "execution_count": null,
   "id": "c7623801-1e5e-420b-a5ed-8e5134db1efb",
   "metadata": {
    "scrolled": true
   },
   "outputs": [],
   "source": []
  }
 ],
 "metadata": {
  "kernelspec": {
   "display_name": "Python 3 (ipykernel)",
   "language": "python",
   "name": "python3"
  },
  "language_info": {
   "codemirror_mode": {
    "name": "ipython",
    "version": 3
   },
   "file_extension": ".py",
   "mimetype": "text/x-python",
   "name": "python",
   "nbconvert_exporter": "python",
   "pygments_lexer": "ipython3",
   "version": "3.10.9"
  }
 },
 "nbformat": 4,
 "nbformat_minor": 5
}
